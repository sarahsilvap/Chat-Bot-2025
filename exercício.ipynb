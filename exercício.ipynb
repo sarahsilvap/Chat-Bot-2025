{
 "cells": [
  {
   "cell_type": "code",
   "execution_count": null,
   "metadata": {},
   "outputs": [],
   "source": [
    "pip install gradio"
   ]
  },
  {
   "cell_type": "code",
   "execution_count": null,
   "metadata": {},
   "outputs": [],
   "source": [
    "pip install Groq"
   ]
  },
  {
   "cell_type": "code",
   "execution_count": 5,
   "metadata": {},
   "outputs": [
    {
     "name": "stdout",
     "output_type": "stream",
     "text": [
      "* Running on local URL:  http://127.0.0.1:7861\n",
      "\n",
      "To create a public link, set `share=True` in `launch()`.\n"
     ]
    },
    {
     "data": {
      "text/html": [
       "<div><iframe src=\"http://127.0.0.1:7861/\" width=\"100%\" height=\"500\" allow=\"autoplay; camera; microphone; clipboard-read; clipboard-write;\" frameborder=\"0\" allowfullscreen></iframe></div>"
      ],
      "text/plain": [
       "<IPython.core.display.HTML object>"
      ]
     },
     "metadata": {},
     "output_type": "display_data"
    }
   ],
   "source": [
    "import os  # Biblioteca para interagir com o sistema operacional\n",
    "import gradio as gr  # Importa Gradio para criar a interface web\n",
    "from groq import Groq  # Importa o cliente da API Groq\n",
    "\n",
    "# Defina sua chave da API do GROQ\n",
    "GROQ_API_KEY = os.getenv('GROQ_API_KEY', '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')  # Substitua pela sua chave\n",
    "\n",
    "# Inicializa o cliente da API Groq\n",
    "client = Groq(api_key=GROQ_API_KEY)\n",
    "\n",
    "# Função para processar a entrada do usuário e gerar uma resposta\n",
    "def assistente_agricultura(user_prompt):\n",
    "    if user_prompt.strip() == \"15\":\n",
    "        return \"Encerrando assistente Físico-Químico! Até mais! 🚜\"\n",
    "\n",
    "    # Faz a solicitação ao modelo\n",
    "    completion = client.chat.completions.create(\n",
    "        model=\"llama3-8b-8192\",\n",
    "        messages=[\n",
    "            {\"role\": \"system\", \"content\": \"Você é um especialista em física e química.\"},\n",
    "            {\"role\": \"user\", \"content\": user_prompt}\n",
    "        ],\n",
    "        temperature=0,\n",
    "        max_tokens=1024,\n",
    "        top_p=1,\n",
    "        stream=False\n",
    "    )\n",
    "\n",
    "    # Retorna a resposta do assistente\n",
    "    return completion.choices[0].message.content\n",
    "\n",
    "# Configuração da interface Gradio\n",
    "iface = gr.Interface(\n",
    "    fn=assistente_agricultura,\n",
    "    inputs=gr.Textbox(lines=2, placeholder=\"Digite sua pergunta sobre agricultura...\"),\n",
    "    outputs=\"text\",\n",
    "    title=\"Especialista em físico-química IA 🧪\",\n",
    "    description=\"🧬 Digite sua pergunta sobre física ou química e receba respostas de IA especializadas! 🔬\",\n",
    "    live=True\n",
    ")\n",
    "\n",
    "# Executa a interface web\n",
    "if __name__ == \"__main__\":\n",
    "    iface.launch()"
   ]
  }
 ],
 "metadata": {
  "kernelspec": {
   "display_name": "Python 3",
   "language": "python",
   "name": "python3"
  },
  "language_info": {
   "codemirror_mode": {
    "name": "ipython",
    "version": 3
   },
   "file_extension": ".py",
   "mimetype": "text/x-python",
   "name": "python",
   "nbconvert_exporter": "python",
   "pygments_lexer": "ipython3",
   "version": "3.13.1"
  }
 },
 "nbformat": 4,
 "nbformat_minor": 2
}
