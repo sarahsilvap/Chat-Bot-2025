{
  "cells": [
    {
      "cell_type": "markdown",
      "metadata": {
        "colab_type": "text",
        "id": "view-in-github"
      },
      "source": [
        "<a href=\"https://colab.research.google.com/github/tainamaiorano/ChatBot_2025/blob/main/Untitled1.ipynb\" target=\"_parent\"><img src=\"https://colab.research.google.com/assets/colab-badge.svg\" alt=\"Open In Colab\"/></a>"
      ]
    },
    {
      "cell_type": "code",
      "execution_count": 1,
      "metadata": {
        "id": "0LhfMQ5IehVF"
      },
      "outputs": [
        {
          "name": "stderr",
          "output_type": "stream",
          "text": [
            "\n",
            "[notice] A new release of pip is available: 24.3.1 -> 25.0.1\n",
            "[notice] To update, run: python.exe -m pip install --upgrade pip\n"
          ]
        }
      ],
      "source": [
        "# Desenvolvimento de um ChatBot especialista em vender café online\n",
        "\n",
        "%pip install -q llama-index"
      ]
    },
    {
      "cell_type": "code",
      "execution_count": null,
      "metadata": {
        "id": "PcoiVhk3fCWu"
      },
      "outputs": [],
      "source": [
        "# Biblioteca para permitir a leitura de arquivos pdf\n",
        "from llama_index.core import SimpleDirectoryReader\n",
        "documentos = SimpleDirectoryReader(input_dir='documentos')\n",
        "\n",
        "documentos.input_files #caminho do arquivo\n",
        "\n",
        "docs = documentos.load_data() #armazena o documento carregado"
      ]
    },
    {
      "cell_type": "code",
      "execution_count": 4,
      "metadata": {
        "colab": {
          "base_uri": "https://localhost:8080/"
        },
        "id": "ALf4Unp7gClf",
        "outputId": "686b7002-21de-430f-d841-ff7038260bb5"
      },
      "outputs": [
        {
          "data": {
            "text/plain": [
              "[Document(id_='9069dbff-e1fb-481b-988c-4838c8fd6ab5', embedding=None, metadata={'page_label': '1', 'file_name': 'serenatto_cafes_especiais (1).pdf', 'file_path': 'c:\\\\Users\\\\DSADM\\\\Desktop\\\\chatbot-sarah\\\\Aula06\\\\Documentos\\\\serenatto_cafes_especiais (1).pdf', 'file_type': 'application/pdf', 'file_size': 133957, 'creation_date': '2025-03-19', 'last_modified_date': '2025-03-19'}, excluded_embed_metadata_keys=['file_name', 'file_type', 'file_size', 'creation_date', 'last_modified_date', 'last_accessed_date'], excluded_llm_metadata_keys=['file_name', 'file_type', 'file_size', 'creation_date', 'last_modified_date', 'last_accessed_date'], relationships={}, metadata_template='{key}: {value}', metadata_separator='\\n', text_resource=MediaResource(embeddings=None, data=None, text='Serenatto  –  Loja  online  de  cafés  especiais   Informações  gerais   P:  Quais  produtos  são  vendidos  no  site  da  Serenatto?  R:  A  Serenatto  é  uma  loja  online  especializada  na  venda  de  grãos  de  cafés  especiais,  \\noferecendo\\n \\ngrãos\\n \\ntorrados,\\n \\nprovenientes\\n \\nde\\n \\nfazendas\\n \\nselecionadas\\n \\nde\\n \\nMinas\\n \\nGerais.\\n \\nTodos\\n \\nos\\n \\nnossos\\n \\ncafés\\n \\npossuem\\n \\nnota\\n \\nSCA\\n \\nacima\\n \\nde\\n \\n80,\\n \\ngarantindo\\n \\nalta\\n \\nqualidade\\n \\ne\\n \\nperfis\\n \\nsensoriais\\n \\nexcepcionais.\\n  P:  De  onde  vêm  os  grãos  de  café  da  Serenatto?   R:  Nossos  grãos  são  cuidadosamente  selecionados  de  fazendas  localizadas  em  Minas  \\nGerais,\\n \\nconhecidas\\n \\npela\\n \\nalta\\n \\nqualidade\\n \\nde\\n \\nseus\\n \\ncafés\\n \\nespeciais.\\n \\nCada\\n \\nfazenda\\n \\né\\n \\nescolhida\\n \\npor\\n \\nsuas\\n \\npráticas\\n \\nsustentáveis\\n \\ne\\n \\npelo\\n \\ncuidado\\n \\nexcepcional\\n \\ncom\\n \\na\\n \\nprodução.\\n  P:  Qual  é  a  quantidade  vendida?  R:  Os  grãos  já  torrados  são  vendidos  em  pacotes  de  250g   P:  Quais  são  as  variedades  de  café  disponíveis?  R:  Trabalhamos  com  as  seguintes  variedades  de  café  em  grãos:  ●  Bourbon  vermelho  ●  Bourbon  amarelo  ●  Blend  especial  (Mistura  de  Bourbon  amarelo  e  vermelho)  ●  Catuaí  amarelo  ●  Geisha  ●  Yirgacheffe   P:  Quais  são  os  preços  de  cada  variedade  de  café?  R:  Os  preços  sãos  os  seguintes:  ●  Bourbon  vermelho:  R$  41,00  ●  Bourbon  amarelo:  R$  43,00  ●  Blend  especial:  R$  37,50  ●  Catuaí  amarelo:  R$  55,00  ●  Geisha:  R$  105,00  ●  Yirgacheffe:  R$  110,00      ', path=None, url=None, mimetype=None), image_resource=None, audio_resource=None, video_resource=None, text_template='{metadata_str}\\n\\n{content}'),\n",
              " Document(id_='68b5b0e1-8122-4e4e-b448-004f8f392b1e', embedding=None, metadata={'page_label': '2', 'file_name': 'serenatto_cafes_especiais (1).pdf', 'file_path': 'c:\\\\Users\\\\DSADM\\\\Desktop\\\\chatbot-sarah\\\\Aula06\\\\Documentos\\\\serenatto_cafes_especiais (1).pdf', 'file_type': 'application/pdf', 'file_size': 133957, 'creation_date': '2025-03-19', 'last_modified_date': '2025-03-19'}, excluded_embed_metadata_keys=['file_name', 'file_type', 'file_size', 'creation_date', 'last_modified_date', 'last_accessed_date'], excluded_llm_metadata_keys=['file_name', 'file_type', 'file_size', 'creation_date', 'last_modified_date', 'last_accessed_date'], relationships={}, metadata_template='{key}: {value}', metadata_separator='\\n', text_resource=MediaResource(embeddings=None, data=None, text='P:  A  Serenatto  oferece  cafés  descafeinados?  R:  No  momento,  trabalhamos  apenas  com  cafés  especiais  que  contêm  cafeína.  Todos  \\nos\\n \\nnossos\\n \\ngrãos\\n \\nsão\\n \\nselecionados\\n \\npara\\n \\noferecer\\n \\na\\n \\nmelhor\\n \\nexperiência\\n \\nsensorial,\\n \\nmas\\n \\nnão\\n \\ntemos\\n \\nopções\\n \\ndescafeinadas\\n \\nem\\n \\nnosso\\n \\nportfólio.\\n  P:  Vocês  enviam  para  todos  os  estados  brasileiros?  R:  Sim,  os  cafés  são  enviados  para  todos  os  estados  brasileiros.    P:  Qual  é  o  prazo  de  envio?  R:  O  envio  dos  pedidos  é  realizado  em  até  3  dias  úteis  após  a  confirmação  do  \\npagamento,\\n \\npois\\n \\nenviamos\\n \\no\\n \\ncafé\\n \\nrecém\\n \\ntorrado\\n \\npara\\n \\ngarantir\\n \\nfrescor\\n \\ne\\n \\nqualidade.\\n  P:  Quais  são  os  métodos  de  pagamento  aceitos?  R:  Aceitamos  PIX,  boleto  bancário  e  cartão  de  crédito.   P:  Vocês  oferecem  cursos  ou  workshops  sobre  café?  R:  Estamos  planejando  oferecer  workshops  e  cursos  sobre  métodos  de  preparo  e  \\ndegustação\\n \\nde\\n \\ncafé\\n \\nem\\n \\nbreve.\\n \\nFique\\n \\nde\\n \\nolho\\n \\nem\\n \\nnossas\\n \\nredes\\n \\nsociais\\n \\ne\\n \\nnewsletter\\n \\npara\\n \\nmais\\n \\ninformações.\\n  P:  A  Serenatto  oferece  um  serviço  de  assinatura?   R:  Atualmente,  não  oferecemos  um  serviço  de  assinatura.  No  entanto,  você  pode  \\nrealizar\\n \\npedidos\\n \\nrecorrentes\\n \\nmanualmente\\n \\natravés\\n \\nde\\n \\nnosso\\n \\nsite.\\n \\nEstamos\\n \\nsempre\\n \\navaliando\\n \\nnovos\\n \\nserviços\\n \\nque\\n \\npossam\\n \\nmelhorar\\n \\na\\n \\nexperiência\\n \\nde\\n \\nnossos\\n \\nclientes,\\n \\nentão\\n \\nfique\\n \\natento\\n \\nàs\\n \\natualizações\\n \\nfuturas.\\n  P:  Onde  posso  tirar  mais  dúvidas?  R:  Para  mais  informações,  entre  em  contato  pelo  whatsapp  (11)  99999-9999  ou  envie  \\nemail\\n \\npara\\n \\ncontato@serenatto.com.br.\\n             ', path=None, url=None, mimetype=None), image_resource=None, audio_resource=None, video_resource=None, text_template='{metadata_str}\\n\\n{content}'),\n",
              " Document(id_='1c05251b-b96e-4cdd-b0bf-77e96e33d379', embedding=None, metadata={'page_label': '3', 'file_name': 'serenatto_cafes_especiais (1).pdf', 'file_path': 'c:\\\\Users\\\\DSADM\\\\Desktop\\\\chatbot-sarah\\\\Aula06\\\\Documentos\\\\serenatto_cafes_especiais (1).pdf', 'file_type': 'application/pdf', 'file_size': 133957, 'creation_date': '2025-03-19', 'last_modified_date': '2025-03-19'}, excluded_embed_metadata_keys=['file_name', 'file_type', 'file_size', 'creation_date', 'last_modified_date', 'last_accessed_date'], excluded_llm_metadata_keys=['file_name', 'file_type', 'file_size', 'creation_date', 'last_modified_date', 'last_accessed_date'], relationships={}, metadata_template='{key}: {value}', metadata_separator='\\n', text_resource=MediaResource(embeddings=None, data=None, text='Variedades  dos  grãos   P:  Quais  são  as  características  de  cada  variedade  de  café?  R:  As  variedades  têm  as  seguintes  características:  ●  Bourbon  vermelho:  Doçura  intensa,  corpo  encorpado,  notas  de  chocolate.  ●  Bourbon  amarelo:  Acidez  vibrante,  notas  cítricas  de  maracujá,  ameixa  e  nêspera .   ●  Blend  especial:  Mistura  do  bourbon  vermelho  e  bourbon  amarelo,  gerando  \\nequilíbrio\\n \\nentre\\n \\ndoçura\\n \\ne\\n \\nacidez,\\n \\ncom\\n \\nnotas\\n \\nde\\n \\ncaramelo\\n \\ne\\n \\nchocolate.\\n ●  Catuaí  amarelo:  Perfil  exótico,  que  carrega  uma  expressiva  acidez  e  notas  de  \\nacerola\\n \\ne\\n \\npitanga.\\n \\n ●  Geisha:  Aroma  floral,  notas  de  jasmim  e  mamão  papaya.   ●  Yirgacheffe:  Acidez  vibrante,  notas  de  mel  de  laranjeira,  chá  de  capim-limão  e  \\nmaçã\\n \\nfuji.\\n \\n  P:  Quero  saber  mais  detalhes  sobre  o  Bourbon  vermelho.  R:  Este  café  possui  doçura  máxima  (5/5),  que  causa  sensação  aveludada  no  céu  da  \\nboca.\\n \\nO\\n \\ncorpo\\n \\né\\n \\nencorpado\\n \\n(5/5)\\n \\ne\\n \\na\\n \\nacidez\\n \\né\\n \\nbaixa\\n \\n(1/5),\\n \\ncom\\n \\num\\n \\nleve\\n \\namargor\\n \\n(2/5).\\n \\nSeu\\n \\nperfil\\n \\nsensorial\\n \\né\\n \\nmarcado\\n \\npor\\n \\nnotas\\n \\nde\\n \\nchocolate.\\n \\nO\\n \\nprocesso\\n \\nde\\n \\nprodução\\n \\né\\n \\nnatural,\\n \\ncultivado\\n \\nem\\n \\naltitudes\\n \\nentre\\n \\n1.200m\\n \\ne\\n \\n1.450m,\\n \\ncom\\n \\ntorra\\n \\nmédia\\n \\nescura.\\n \\n  P:  Quero  mais  detalhes  sobre  o  Bourbon  amarelo.  R:  Este  café  possui  doçura  moderada  (3/5),  corpo  médio  (3/5),  alta  acidez  (5/5)  e  baixo  \\namargor\\n \\n(1/5).\\n \\nPossui\\n \\nsabor\\n \\nresidual\\n \\nlongo\\n \\ne\\n \\nintenso\\n \\nde\\n \\nfrutas\\n \\ncítricas,\\n \\nincluindo\\n \\nnotas\\n \\nde\\n \\nmaracujá,\\n \\nameixa\\n \\ne\\n \\nnêspera.\\n \\nO\\n \\nprocesso\\n \\nutilizado\\n \\né\\n \\no\\n \\ncereja\\n \\ndescascado,\\n \\ncultivado\\n \\nem\\n \\naltitudes\\n \\nentre\\n \\n1.200m\\n \\ne\\n \\n1.450m,\\n \\ncom\\n \\ntorra\\n \\nmédia\\n \\nclara.\\n \\n  P:  Quero  saber  mais  detalhes  sobre  o  Blend  especial.  R:  É  uma  mistura  do  Bourbon  amarelo  com  o  Bourbon  vermelho,  ideal  para  quem  \\nbusca\\n \\no\\n \\nequilíbrio\\n \\nperfeito.\\n \\nEsta\\n \\nmistura\\n \\napresenta\\n \\ndoçura\\n \\nalta\\n \\n(4/5),\\n \\ncorpo\\n \\nmédio-alto\\n \\n(4/5)\\n \\ne\\n \\nacidez\\n \\nmédia-alta\\n \\n(4/5),\\n \\ncom\\n \\namargor\\n \\nbaixo\\n \\n(1/5).\\n \\nSeu\\n \\nperfil\\n \\nsensorial\\n \\ncombina\\n \\ncaramelo\\n \\ne\\n \\nchocolate.\\n \\nO\\n \\nprocesso\\n \\ninclui\\n \\ncereja\\n \\ndescascado\\n \\ne\\n \\nnatural,\\n \\ncultivado\\n \\nem\\n \\naltitudes\\n \\nentre\\n \\n1.200m\\n \\ne\\n \\n1.450m,\\n \\ncom\\n \\ntorra\\n \\nmédia.\\n  P:  Quero  mais  detalhes  sobre  o  Catuaí  amarelo.  R:  Este  café  possui  doçura  máxima  (5/5)  e  corpo  médio-alto  (4/5)  e  amargor  baixo  \\n(1/5).\\n \\nEle\\n \\nainda\\n \\ncarrega\\n \\numa\\n \\nexpressiva\\n \\nacidez\\n \\ne\\n \\nnotas\\n \\nmaravilhosas\\n \\nde\\n \\npitanga,\\n \\nfugindo\\n \\nmuito\\n \\ndo\\n \\ntradicional.\\n \\nÉ\\n \\num\\n \\ncafé\\n \\npara\\n \\nquem\\n \\nbusca\\n \\numa\\n \\nexperiência\\n \\nsensorial\\n \\ndiferenciada.\\n \\nO\\n \\nprocesso\\n \\né\\n \\nfermentado,\\n \\ncultivado\\n \\nem\\n \\naltitude\\n \\nde\\n \\n1.200m,\\n \\ncom\\n \\ntorra\\n \\nmédia.\\n  ', path=None, url=None, mimetype=None), image_resource=None, audio_resource=None, video_resource=None, text_template='{metadata_str}\\n\\n{content}'),\n",
              " Document(id_='b9bd00cc-ae42-440f-85a4-398c46b77f9f', embedding=None, metadata={'page_label': '4', 'file_name': 'serenatto_cafes_especiais (1).pdf', 'file_path': 'c:\\\\Users\\\\DSADM\\\\Desktop\\\\chatbot-sarah\\\\Aula06\\\\Documentos\\\\serenatto_cafes_especiais (1).pdf', 'file_type': 'application/pdf', 'file_size': 133957, 'creation_date': '2025-03-19', 'last_modified_date': '2025-03-19'}, excluded_embed_metadata_keys=['file_name', 'file_type', 'file_size', 'creation_date', 'last_modified_date', 'last_accessed_date'], excluded_llm_metadata_keys=['file_name', 'file_type', 'file_size', 'creation_date', 'last_modified_date', 'last_accessed_date'], relationships={}, metadata_template='{key}: {value}', metadata_separator='\\n', text_resource=MediaResource(embeddings=None, data=None, text='P:  Quero  saber  mais  detalhes  sobre  o  Geisha.  R:  Este  café  premium  possui  doçura  máxima  (5/5),  corpo  encorpado  (5/5)  e  acidez  \\nmoderada-alta\\n \\n(4/5),\\n \\ncom\\n \\namargor\\n \\nbaixo\\n \\n(1/5).\\n \\nSeu\\n \\nperfil\\n \\nsensorial\\n \\ntem\\n \\naroma\\n \\nfloral\\n \\ne\\n \\né\\n \\nmarcado\\n \\npor\\n \\nnotas\\n \\nde\\n \\njasmim\\n \\ne\\n \\nmamão\\n \\npapaya.\\n \\nO\\n \\nprocesso\\n \\né\\n \\nfermentado,\\n \\ncultivado\\n \\nem\\n \\naltitude\\n \\nde\\n \\n1.150m,\\n \\ncom\\n \\ntorra\\n \\nclara.\\n  P:  Quero  saber  mais  detalhes  sobre  o  Yirgacheffe.   R:  Este  café  premium  possui  doçura  máxima  (5/5)  e  corpo  médio-alto  (4/5),  \\ndestacando-se\\n \\npela\\n \\nalta\\n \\nacidez\\n \\n(5/5)\\n \\ne\\n \\namargor\\n \\nbaixo\\n \\n(1/5).\\n \\nSeu\\n \\nperfil\\n \\nsensorial\\n \\ninclui\\n \\nnotas\\n \\nde\\n \\nmel\\n \\nde\\n \\nlaranjeira,\\n \\nchá\\n \\nde\\n \\ncapim-limão\\n \\ne\\n \\nmaçã\\n \\nfuji.\\n \\nA\\n \\nacidez\\n \\né\\n \\nvibrante,\\n \\ncom\\n \\ncorpo\\n \\nsedoso\\n \\ne\\n \\nfinalização\\n \\ndoce\\n \\nfrutada.\\n \\nO\\n \\nprocesso\\n \\né\\n \\nfermentado,\\n \\ncultivado\\n \\nem\\n \\naltitude\\n \\nde\\n \\n1.300m,\\n \\ncom\\n \\ntorra\\n \\nclara.\\n \\n  P:  Qual  café  da  Serenatto  é  mais  indicado  para  quem  prefere  sabores  suaves?  R:  Para  quem  prefere  sabores  suaves,  recomendamos  o  Bourbon  Vermelho,  que  \\npossui\\n \\ndoçura\\n \\nintensa,\\n \\ncorpo\\n \\nencorpado\\n \\ne\\n \\nnotas\\n \\nde\\n \\nchocolate,\\n \\ncom\\n \\nacidez\\n \\nbaixa\\n \\ne\\n \\namargor\\n \\nleve.\\n  P:  Qual  café  é  mais  indicado  para  quem  gosta  de  acidez  marcante?  R:  Se  você  aprecia  acidez  vibrante,  experimente  o  Bourbon  amarelo,  Catuaí  amarelo  \\nou\\n \\no\\n \\nYirgacheffe.\\n \\nAmbos\\n \\npossuem\\n \\nacidez\\n \\nalta\\n \\ne\\n \\nnotas\\n \\ncítricas\\n \\ne\\n \\nfrutadas\\n \\nque\\n \\ndestacam\\n \\nessa\\n \\ncaracterística.\\n  P:  Vocês  têm  cafés  com  notas  florais?  R:  Sim,  o  Geisha  é  a  melhor  opção  para  quem  busca  notas  florais.  Ele  possui  aroma  de  \\njasmim\\n \\ne\\n \\nnotas\\n \\nde\\n \\nmamão\\n \\npapaya,\\n \\ncom\\n \\numa\\n \\nacidez\\n \\nagradável\\n \\ne\\n \\ndoçura\\n \\nmáxima.\\n  P:  Como  posso  identificar  notas  diferentes  no  café?   R:  Identificar  notas  em  café  é  uma  habilidade  que  pode  ser  aprimorada  com  a  prática.  \\nComece\\n \\nprovando\\n \\ncafés\\n \\nde\\n \\ndiferentes\\n \\nregiões\\n \\ne\\n \\nprestando\\n \\natenção\\n \\nàs\\n \\ndescrições\\n \\ndas\\n \\nnotas\\n \\nna\\n \\nembalagem.\\n \\nTente\\n \\nidentificar\\n \\nessas\\n \\nnotas\\n \\nenquanto\\n \\nsaboreia\\n \\nlentamente,\\n \\nprestando\\n \\natenção\\n \\nao\\n \\naroma,\\n \\nsabor\\n \\ne\\n \\nsensação\\n \\nna\\n \\nboca.\\n         ', path=None, url=None, mimetype=None), image_resource=None, audio_resource=None, video_resource=None, text_template='{metadata_str}\\n\\n{content}'),\n",
              " Document(id_='0b5db84f-f399-47d6-9711-8e572edd7804', embedding=None, metadata={'page_label': '5', 'file_name': 'serenatto_cafes_especiais (1).pdf', 'file_path': 'c:\\\\Users\\\\DSADM\\\\Desktop\\\\chatbot-sarah\\\\Aula06\\\\Documentos\\\\serenatto_cafes_especiais (1).pdf', 'file_type': 'application/pdf', 'file_size': 133957, 'creation_date': '2025-03-19', 'last_modified_date': '2025-03-19'}, excluded_embed_metadata_keys=['file_name', 'file_type', 'file_size', 'creation_date', 'last_modified_date', 'last_accessed_date'], excluded_llm_metadata_keys=['file_name', 'file_type', 'file_size', 'creation_date', 'last_modified_date', 'last_accessed_date'], relationships={}, metadata_template='{key}: {value}', metadata_separator='\\n', text_resource=MediaResource(embeddings=None, data=None, text='Nota  SCA   P:  O  que  é  a  nota  SCA?  R:  A  nota  SCA  (Specialty  Coffee  Association)  é  uma  avaliação  que  classifica  a  \\nqualidade\\n \\ndo\\n \\ncafé\\n \\ncom\\n \\nbase\\n \\nem\\n \\ncritérios\\n \\npadronizados.\\n \\nA\\n \\npontuação\\n \\nvaria\\n \\nde\\n \\n0\\n \\na\\n \\n100,\\n \\ne\\n \\ncafés\\n \\ncom\\n \\nnota\\n \\nacima\\n \\nde\\n \\n80\\n \\nsão\\n \\nconsiderados\\n \\nespeciais.\\n \\nA\\n \\navaliação\\n \\nconsidera\\n \\naspectos\\n \\ncomo\\n \\naroma,\\n \\nsabor,\\n \\nacidez,\\n \\ncorpo,\\n \\nequilíbrio,\\n \\ndoçura\\n \\ne\\n \\nfinalização.\\n \\nCafés\\n \\ncom\\n \\nnotas\\n \\nacima\\n \\nde\\n \\n85\\n \\nsão\\n \\nde\\n \\naltíssima\\n \\nqualidade,\\n \\ne\\n \\nacima\\n \\nde\\n \\n90\\n \\nsão\\n \\nraros\\n \\ne\\n \\nexcepcionais.\\n  P:  Quais  são  as  notas  SCA  dos  cafés  da  Serenatto?  R:  Os  cafés  da  Serenatto  têm  as  seguintes  notas  SCA:  ●  Bourbon  vermelho:  85  ●  Bourbon  amarelo:  86  ●  Blend  especial:  85  ●  Catuaí  amarelo:  87  ●  Geisha:  90  ●  Yirgacheffe:  90    P:  Quais  são  os  cafés  mais  bem  avaliados  da  Serenatto?  R:  Geisha  e  Yirgacheffe.  Ambos  com  Nota  SCA  90.                        ', path=None, url=None, mimetype=None), image_resource=None, audio_resource=None, video_resource=None, text_template='{metadata_str}\\n\\n{content}'),\n",
              " Document(id_='a71f4a67-1438-44c9-ac2a-6da3ea3de424', embedding=None, metadata={'page_label': '6', 'file_name': 'serenatto_cafes_especiais (1).pdf', 'file_path': 'c:\\\\Users\\\\DSADM\\\\Desktop\\\\chatbot-sarah\\\\Aula06\\\\Documentos\\\\serenatto_cafes_especiais (1).pdf', 'file_type': 'application/pdf', 'file_size': 133957, 'creation_date': '2025-03-19', 'last_modified_date': '2025-03-19'}, excluded_embed_metadata_keys=['file_name', 'file_type', 'file_size', 'creation_date', 'last_modified_date', 'last_accessed_date'], excluded_llm_metadata_keys=['file_name', 'file_type', 'file_size', 'creation_date', 'last_modified_date', 'last_accessed_date'], relationships={}, metadata_template='{key}: {value}', metadata_separator='\\n', text_resource=MediaResource(embeddings=None, data=None, text='Produção  dos  cafés   P:  Quais  são  os  processos  de  produção  dos  cafés?  R:  Nossos  cafés  podem  ter  os  seguintes  processos  de  produção:  -  Natural:  Os  frutos  do  café  (cerejas)  são  secos  inteiros,  resultando  em  cafés  com  \\nalta\\n \\ndoçura,\\n \\ncorpo\\n \\nencorpado\\n \\ne\\n \\nnotas\\n \\nfrutadas\\n \\nou\\n \\nde\\n \\nchocolate.\\n -  Cereja  descascado:  A  casca  dos  frutos  do  café  é  removida,  mas  parte  da  polpa  \\npermanece,\\n \\ngerando\\n \\ncafés\\n \\ncom\\n \\ndoçura\\n \\nequilibrada,\\n \\ncorpo\\n \\nmédio\\n \\na\\n \\nencorpado\\n \\ne\\n \\nacidez\\n \\nmais\\n \\npronunciada,\\n \\ncom\\n \\nnotas\\n \\ncítricas\\n \\ne\\n \\nfrutadas\\n -  Fermentado:  O  processo  fermentado  envolve  a  secagem  das  cerejas  inteiras  \\ncom\\n \\nfermentação\\n \\ncontrolada,\\n \\ndestacando\\n \\nsabores\\n \\nexóticos.\\n  P:  Como  a  torra  influencia  no  sabor  do  café?  R:  As  torras  influenciam  da  seguinte  forma:   -  Torra  clara:  Preserva  notas  frutadas,  florais  e  cítricas,  com  acidez  vibrante  e  \\ncorpo\\n \\nleve.\\n -  Torra  média:  Equilíbrio  entre  doçura  e  acidez,  com  notas  de  chocolate,  caramelo  \\ne\\n \\nnozes,\\n \\nalém\\n \\nde\\n \\num\\n \\ncorpo\\n \\nmais\\n \\nencorpado.\\n -  Torra  escura:  Sabores  intensos  e  amargos,  acidez  baixa  e  corpo  pesado,  comum  \\nem\\n \\ncafés\\n \\npara\\n \\nespresso\\n \\nou\\n \\npara\\n \\nquem\\n \\nprefere\\n \\nsabores\\n \\nmais\\n \\nrobustos.\\n  P:  Como  a  altitude  afeta  os  grãos  de  café?   R:  A  altitude  em  que  os  grãos  de  café  são  cultivados  desempenha  um  papel  \\nfundamental\\n \\nno\\n \\ndesenvolvimento\\n \\ndas\\n \\ncaracterísticas\\n \\ndo\\n \\ncafé.\\n \\nDe\\n \\nmaneira\\n \\ngeral,\\n \\nquanto\\n \\nmaior\\n \\na\\n \\naltitude,\\n \\nmais\\n \\nlentamente\\n \\no\\n \\ncafé\\n \\namadurece.\\n \\nIsso\\n \\nproporciona\\n \\nmais\\n \\ntempo\\n \\npara\\n \\nque\\n \\nos\\n \\ngrãos\\n \\ndesenvolvam\\n \\nsabores\\n \\ncomplexos\\n \\ne\\n \\nnuances\\n \\naromáticas.\\n \\n               ', path=None, url=None, mimetype=None), image_resource=None, audio_resource=None, video_resource=None, text_template='{metadata_str}\\n\\n{content}'),\n",
              " Document(id_='c049ca50-f50e-44f6-b2c5-47010c6318a7', embedding=None, metadata={'page_label': '7', 'file_name': 'serenatto_cafes_especiais (1).pdf', 'file_path': 'c:\\\\Users\\\\DSADM\\\\Desktop\\\\chatbot-sarah\\\\Aula06\\\\Documentos\\\\serenatto_cafes_especiais (1).pdf', 'file_type': 'application/pdf', 'file_size': 133957, 'creation_date': '2025-03-19', 'last_modified_date': '2025-03-19'}, excluded_embed_metadata_keys=['file_name', 'file_type', 'file_size', 'creation_date', 'last_modified_date', 'last_accessed_date'], excluded_llm_metadata_keys=['file_name', 'file_type', 'file_size', 'creation_date', 'last_modified_date', 'last_accessed_date'], relationships={}, metadata_template='{key}: {value}', metadata_separator='\\n', text_resource=MediaResource(embeddings=None, data=None, text='Modo  de  preparo  recomendado:  Coado   P:  Quanto  de  café  devo  usar  para  preparar  os  cafés  da  Serenatto?  R:  Para  obter  os  melhores  resultados  na  preparação  dos  nossos  cafés,  sugerimos  \\nseguir\\n \\numa\\n \\nreceita\\n \\nbase\\n \\nonde\\n \\n15\\n \\ngramas\\n \\nde\\n \\ncafé\\n \\nsão\\n \\nusados\\n \\npara\\n \\ncada\\n \\n240\\n \\nmL\\n \\nde\\n \\nágua.\\n \\nEsta\\n \\nproporção\\n \\n(1:16)\\n \\né\\n \\nideal\\n \\npara\\n \\numa\\n \\nextração\\n \\ncompleta\\n \\ndos\\n \\nsabores\\n \\nricos\\n \\ne\\n \\nnuances\\n \\ndo\\n \\ncafé.\\n \\nClaro,\\n \\nvocê\\n \\npode\\n \\najustar\\n \\nas\\n \\nmedidas\\n \\npara\\n \\nmais\\n \\nou\\n \\npara\\n \\nmenos\\n \\nconforme\\n \\nsua\\n \\npreferência.\\n \\nCaso\\n \\nseja\\n \\nsua\\n \\nprimeira\\n \\nexperiência\\n \\ncom\\n \\nnossos\\n \\ncafés,\\n \\nessa\\n \\nreceita\\n \\nserve\\n \\ncomo\\n \\num\\n \\nexcelente\\n \\nponto\\n \\nde\\n \\npartida.\\n  P:  Qual  método  vocês  recomendam  para  preparar  os  cafés  da  Serenatto?  R:  Nós  recomendamos  o  V60,  um  método  de  preparo  de  café  que  se  destaca  pelo  seu  \\nformato\\n \\ncônico\\n \\ncom\\n \\nlinhas\\n \\nespirais\\n \\ninternas\\n \\ne\\n \\numa\\n \\ngrande\\n \\nabertura\\n \\nna\\n \\nbase.\\n \\nEssas\\n \\ncaracterísticas\\n \\npermitem\\n \\num\\n \\ncontrole\\n \\npreciso\\n \\nsobre\\n \\na\\n \\ninfusão,\\n \\nresultando\\n \\nem\\n \\num\\n \\ncafé\\n \\ncom\\n \\nextração\\n \\nuniforme\\n \\ne\\n \\nrica\\n \\nem\\n \\nsabores.\\n  P:  Qual  é  o  passo  a  passo  para  preparar  o  café  coado?  R:  Você  pode  seguir  as  seguintes  etapas  do  preparo:  1.  Preparação  da  água:  Aqueça  a  água  até  uma  temperatura  entre  94ºC  e  96ºC.  2.  Pesagem  do  café:  Use  a  proporção  de  1  grama  de  café  para  cada  16  mL  de  água.  3.  Moagem  do  café:  Moa  o  café  até  atingir  uma  granulação  média-fina,  semelhante  a  \\naçúcar\\n \\ncristal.\\n \\n 4.  Preparação  do  filtro:  Coloque  o  filtro  de  papel  no  suporte  V60.  Antes  de  adicionar  o  \\ncafé,\\n \\nescalde\\n \\no\\n \\nfiltro\\n \\ncom\\n \\nágua\\n \\nquente\\n \\npara\\n \\nremover\\n \\nqualquer\\n \\nsabor\\n \\nde\\n \\npapel\\n \\ne\\n \\npré-aquecer\\n \\no\\n \\nsuporte.\\n 5.  Adição  do  café:  Despeje  o  pó  no  filtro.  6.  Infusão:  Adicione  a  água  quente  lentamente  sobre  o  café,  preferencialmente  em  \\nciclos,\\n \\ncomeçando\\n \\ndo\\n \\ncentro\\n \\ne\\n \\nmovendo\\n \\npara\\n \\nfora\\n \\nem\\n \\nmovimento\\n \\nespiral.\\n \\nIsso\\n \\najuda\\n \\na\\n \\ngarantir\\n \\numa\\n \\nextração\\n \\nuniforme\\n \\nde\\n \\ntodos\\n \\nos\\n \\nsabores\\n \\ne\\n \\naromas.\\n 7.  Finalização:  Após  a  passagem  da  água,  remova  o  filtro  e  descarte-o.  Agora  é  só  \\nservir\\n \\ne\\n \\ndesfrutar\\n \\ndo\\n \\nseu\\n \\ndelicioso\\n \\ncafé.\\n  P:  Que  tipo  de  água  devo  usar  para  fazer  café?   R:  Recomendamos  usar  água  filtrada  com  baixo  teor  de  minerais.  A  qualidade  da  água  \\ntem\\n \\num\\n \\ngrande\\n \\nimpacto\\n \\nno\\n \\nsabor\\n \\nfinal\\n \\ndo\\n \\ncafé,\\n \\npor\\n \\nisso\\n \\nágua\\n \\npura,\\n \\nsem\\n \\ncloro\\n \\nou\\n \\nimpurezas,\\n \\né\\n \\nessencial.\\n     ', path=None, url=None, mimetype=None), image_resource=None, audio_resource=None, video_resource=None, text_template='{metadata_str}\\n\\n{content}'),\n",
              " Document(id_='a012fa26-4cc7-44c2-9340-695326f84092', embedding=None, metadata={'page_label': '8', 'file_name': 'serenatto_cafes_especiais (1).pdf', 'file_path': 'c:\\\\Users\\\\DSADM\\\\Desktop\\\\chatbot-sarah\\\\Aula06\\\\Documentos\\\\serenatto_cafes_especiais (1).pdf', 'file_type': 'application/pdf', 'file_size': 133957, 'creation_date': '2025-03-19', 'last_modified_date': '2025-03-19'}, excluded_embed_metadata_keys=['file_name', 'file_type', 'file_size', 'creation_date', 'last_modified_date', 'last_accessed_date'], excluded_llm_metadata_keys=['file_name', 'file_type', 'file_size', 'creation_date', 'last_modified_date', 'last_accessed_date'], relationships={}, metadata_template='{key}: {value}', metadata_separator='\\n', text_resource=MediaResource(embeddings=None, data=None, text='Café  gelado   P:  Como  posso  preparar  café  gelado?   R:  Para  preparar  um  delicioso  café  gelado,  você  pode  usar  o  método  do  coado,  \\ncontendo\\n \\n40%\\n \\ndo\\n \\nvolume\\n \\nem\\n \\ngelo\\n \\ne\\n \\n60%\\n \\ndo\\n \\nvolume\\n \\nem\\n \\nágua\\n \\nquente,\\n \\nseguindo\\n \\nas\\n \\nseguintes\\n \\netapas:\\n 1.  Pesagem  do  café:  Use  a  proporção  de  1  grama  de  café  para  cada  16  mL  de  água  \\ntotal\\n 2.  Moagem  do  Café:  Moa  o  café  levemente  mais  fino  do  que  o  usado  para  coado  \\nnormal.\\n \\nIsso\\n \\najudará\\n \\nna\\n \\nextração\\n \\ndos\\n \\nsabores,\\n \\ndado\\n \\no\\n \\ntempo\\n \\nde\\n \\ncontato\\n \\nmais\\n \\ncurto\\n \\ncom\\n \\na\\n \\nágua.\\n 3.  Preparação  do  Filtro:  Coloque  o  filtro  de  papel  no  suporte  e  escalde-o  com  água  \\nquente.\\n \\nIsso\\n \\nremove\\n \\nqualquer\\n \\nsabor\\n \\nresidual\\n \\ndo\\n \\npapel\\n \\ne\\n \\najuda\\n \\na\\n \\npré-aquecer\\n \\no\\n \\nsuporte.\\n 4.  Preparação  do  Gelo:  Coloque  gelo  para  ocupar  cerca  de  40%  do  volume  total  da  sua  \\njarra\\n \\nou\\n \\nrecipiente.\\n 5.  Adição  do  café:  Despeje  o  pó  no  filtro.  6.  Pré-infusão:  Adicione  uma  pequena  quantidade  de  água  quente  (entre  94ºC  e  96ºC)  \\nsobre\\n \\no\\n \\ncafé\\n \\nmoído\\n \\nno\\n \\nfiltro,\\n \\nsuficiente\\n \\npara\\n \\numedecer\\n \\ntodo\\n \\no\\n \\ncafé.\\n \\nDeixe\\n \\nem\\n \\npré-infusão\\n \\npor\\n \\n1\\n \\nminuto\\n \\npara\\n \\nliberar\\n \\nos\\n \\nóleos\\n \\nessenciais\\n \\ne\\n \\naromas\\n \\ndo\\n \\ncafé.\\n \\n 7.  Despejo:  Após  a  pré-infusão,  continue  adicionando  a  água  quente  em  ciclos,  \\ndespejando\\n \\nlentamente\\n \\nem\\n \\nmovimentos\\n \\ncirculares\\n \\npara\\n \\ngarantir\\n \\numa\\n \\nextração\\n \\nuniforme.\\n 8.  Finalização:  Após  completar  os  despejos,  deixe  o  café  terminar  de  filtrar  sobre  o  \\ngelo.\\n \\nO\\n \\ngelo\\n \\nderreterá\\n \\nparcialmente,\\n \\nresfriando\\n \\no\\n \\ncafé\\n \\ninstantaneamente\\n \\ne\\n \\ndiluindo-o\\n \\nna\\n \\nproporção\\n \\ncorreta.\\n Este  método  garante  um  café  coado  gelado  refrescante  e  saboroso,  perfeito  para  os  \\ndias\\n \\nmais\\n \\nquentes!\\n              ', path=None, url=None, mimetype=None), image_resource=None, audio_resource=None, video_resource=None, text_template='{metadata_str}\\n\\n{content}'),\n",
              " Document(id_='0c73ab21-3bb6-44e8-b3f8-370c4bad3b53', embedding=None, metadata={'page_label': '9', 'file_name': 'serenatto_cafes_especiais (1).pdf', 'file_path': 'c:\\\\Users\\\\DSADM\\\\Desktop\\\\chatbot-sarah\\\\Aula06\\\\Documentos\\\\serenatto_cafes_especiais (1).pdf', 'file_type': 'application/pdf', 'file_size': 133957, 'creation_date': '2025-03-19', 'last_modified_date': '2025-03-19'}, excluded_embed_metadata_keys=['file_name', 'file_type', 'file_size', 'creation_date', 'last_modified_date', 'last_accessed_date'], excluded_llm_metadata_keys=['file_name', 'file_type', 'file_size', 'creation_date', 'last_modified_date', 'last_accessed_date'], relationships={}, metadata_template='{key}: {value}', metadata_separator='\\n', text_resource=MediaResource(embeddings=None, data=None, text='Outros  métodos  de  preparo  além  do  recomendado:   P:  Posso  usar  os  cafés  da  Serenatto  em  máquinas  de  espresso?  R:  Sim,  nossos  cafés  podem  ser  usados  em  máquinas  de  espresso.  Para  esse  método,  \\nrecomendamos\\n \\numa\\n \\nmoagem\\n \\nfina\\n \\ne\\n \\ncafés\\n \\ncom\\n \\ntorra\\n \\nmédia\\n \\nou\\n \\nescura,\\n \\ncomo\\n \\no\\n \\nBourbon\\n \\nvermelho\\n \\nou\\n \\no\\n \\nBlend\\n \\nespecial,\\n \\nque\\n \\npossuem\\n \\ncorpo\\n \\nencorpado\\n \\ne\\n \\nsabores\\n \\nintensos.\\n  P:  Vocês  têm  dicas  para  French  Press?  R:  Para  o  French  Press,  recomendamos  uma  moagem  grossa  e  uma  proporção  de  \\n1:15\\n \\n(1\\n \\ngrama\\n \\nde\\n \\ncafé\\n \\npara\\n \\n15\\n \\nmL\\n \\nde\\n \\nágua).\\n \\nUse\\n \\nágua\\n \\na\\n \\n94ºC\\n \\ne\\n \\ndeixe\\n \\no\\n \\ncafé\\n \\nem\\n \\ninfusão\\n \\npor\\n \\n4\\n \\nminutos.\\n \\nDepois,\\n \\npressione\\n \\no\\n \\nêmbolo\\n \\nlentamente\\n \\ne\\n \\nsirva\\n \\nimediatamente.\\n  P:  Qual  café  é  melhor  para  preparo  cold  brew?  R:  Para  cold  brew,  recomendamos  o  Catuaí  amarelo  ou  o  yirgacheffe,  que  possuem  \\nnotas\\n \\nfrutadas\\n \\ne\\n \\nacidez\\n \\nvibrante,\\n \\ncaracterísticas\\n \\nque\\n \\nse\\n \\ndestacam\\n \\nnesse\\n \\nmétodo\\n \\nde\\n \\npreparo.\\n \\nUse\\n \\numa\\n \\nmoagem\\n \\ngrossa\\n \\ne\\n \\ndeixe\\n \\nem\\n \\ninfusão\\n \\npor\\n \\n12\\n \\na\\n \\n24\\n \\nhoras\\n \\nna\\n \\ngeladeira.\\n  P:  Qual  é  a  moagem  ideal  para  diferentes  tipos  de  preparo?   R:  A  moagem  varia  de  acordo  com  o  método  de  preparo:  ●  Espresso:  Moagem  fina  ●  V60:  Moagem  média-fina  ●  French  Press:  Moagem  grossa  ●  Cold  Brew:  Moagem  grossa   Adaptar  a  moagem  ao  método  de  preparo  ajuda  a  maximizar  o  sabor  e  a  qualidade  da  \\nbebida.\\n  P:  Por  que  moer  o  café  na  hora  é  importante?  R:  Moer  o  café  na  hora  é  essencial  para  garantir  uma  bebida  de  alta  qualidade,  pois  \\npreserva\\n \\no\\n \\nfrescor,\\n \\no\\n \\naroma\\n \\ne\\n \\nos\\n \\nsabores\\n \\nnaturais\\n \\ndos\\n \\ngrãos.\\n \\nQuando\\n \\no\\n \\ncafé\\n \\né\\n \\nmoído,\\n \\nseus\\n \\nóleos\\n \\ne\\n \\ncompostos\\n \\naromáticos\\n \\ncomeçam\\n \\na\\n \\nse\\n \\ndegradar\\n \\nrapidamente\\n \\nem\\n \\ncontato\\n \\ncom\\n \\no\\n \\nar.\\n \\nMoer\\n \\nna\\n \\nhora\\n \\nevita\\n \\nessa\\n \\nperda,\\n \\nresultando\\n \\nem\\n \\num\\n \\ncafé\\n \\nmais\\n \\nrico\\n \\ne\\n \\nsaboroso.\\n \\nAlém\\n \\ndisso,\\n \\npermite\\n \\najustar\\n \\na\\n \\nmoagem\\n \\npara\\n \\no\\n \\nmétodo\\n \\nde\\n \\npreparo\\n \\nescolhido,\\n \\ngarantindo\\n \\numa\\n \\nextração\\n \\nequilibrada\\n \\ne\\n \\nevitando\\n \\nsabores\\n \\naguados\\n \\nou\\n \\namargos.\\n \\n \\n ', path=None, url=None, mimetype=None), image_resource=None, audio_resource=None, video_resource=None, text_template='{metadata_str}\\n\\n{content}'),\n",
              " Document(id_='54db93bb-1d14-4f5b-a630-10979faef594', embedding=None, metadata={'page_label': '10', 'file_name': 'serenatto_cafes_especiais (1).pdf', 'file_path': 'c:\\\\Users\\\\DSADM\\\\Desktop\\\\chatbot-sarah\\\\Aula06\\\\Documentos\\\\serenatto_cafes_especiais (1).pdf', 'file_type': 'application/pdf', 'file_size': 133957, 'creation_date': '2025-03-19', 'last_modified_date': '2025-03-19'}, excluded_embed_metadata_keys=['file_name', 'file_type', 'file_size', 'creation_date', 'last_modified_date', 'last_accessed_date'], excluded_llm_metadata_keys=['file_name', 'file_type', 'file_size', 'creation_date', 'last_modified_date', 'last_accessed_date'], relationships={}, metadata_template='{key}: {value}', metadata_separator='\\n', text_resource=MediaResource(embeddings=None, data=None, text='Armazenamento  e  validade   P:  Como  devo  armazenar  os  grãos  de  café  para  manter  a  qualidade?  R:  Recomendamos  armazenar  os  grãos  em  um  recipiente  hermético,  longe  da  umidade  \\ne\\n \\ncalor.\\n \\nEvite\\n \\nguardar\\n \\no\\n \\ncafé\\n \\nna\\n \\ngeladeira,\\n \\npois\\n \\na\\n \\numidade\\n \\ne\\n \\nas\\n \\nvariações\\n \\nde\\n \\ntemperatura\\n \\npodem\\n \\nprejudicar\\n \\no\\n \\nsabor\\n \\ne\\n \\no\\n \\naroma.\\n  P:  Qual  é  a  validade  dos  cafés  da  Serenatto?  R:  Nossos  cafés  são  enviados  recém-torrados  para  garantir  frescor.  Para  uma  \\nexperiência\\n \\nmelhor\\n \\ncom\\n \\nas\\n \\ncaracterísticas\\n \\ndas\\n \\nnotas\\n \\nsensoriais\\n \\ne\\n \\na\\n \\nintensidade\\n \\ndo\\n \\naroma,\\n \\no\\n \\nconsumo\\n \\ndeve\\n \\nser\\n \\nentre\\n \\ntrês\\n \\ne\\n \\nquatro\\n \\nmeses.\\n \\nNo\\n \\nentanto,\\n \\ndepois\\n \\nde\\n \\naberto,\\n \\no\\n \\nconsumo\\n \\ndeve\\n \\nser,\\n \\nde\\n \\npreferência,\\n \\nentre\\n \\nduas\\n \\n(quando\\n \\nestiver\\n \\nmoído)\\n \\na\\n \\nquatro\\n \\nsemanas\\n \\n(em\\n \\ngrãos)\\n \\nda\\n \\ndata\\n \\nda\\n \\ntorra.\\n  ', path=None, url=None, mimetype=None), image_resource=None, audio_resource=None, video_resource=None, text_template='{metadata_str}\\n\\n{content}')]"
            ]
          },
          "execution_count": 4,
          "metadata": {},
          "output_type": "execute_result"
        }
      ],
      "source": [
        "docs #exibe o conteudo do doc"
      ]
    },
    {
      "cell_type": "code",
      "execution_count": 5,
      "metadata": {
        "colab": {
          "base_uri": "https://localhost:8080/"
        },
        "id": "lR3tKbWpgH-W",
        "outputId": "594633ce-581f-4be7-a3b3-f6902ac40d58"
      },
      "outputs": [
        {
          "data": {
            "text/plain": [
              "10"
            ]
          },
          "execution_count": 5,
          "metadata": {},
          "output_type": "execute_result"
        }
      ],
      "source": [
        "len(docs)"
      ]
    },
    {
      "cell_type": "code",
      "execution_count": 6,
      "metadata": {
        "colab": {
          "base_uri": "https://localhost:8080/"
        },
        "id": "YlE6RZeugg9S",
        "outputId": "b2efb229-21f2-48cb-a334-fbaf47695f0b"
      },
      "outputs": [
        {
          "name": "stdout",
          "output_type": "stream",
          "text": [
            "page_label: 1\n",
            "file_name: serenatto_cafes_especiais (1).pdf\n",
            "file_path: c:\\Users\\DSADM\\Desktop\\chatbot-sarah\\Aula06\\Documentos\\serenatto_cafes_especiais (1).pdf\n",
            "file_type: application/pdf\n",
            "file_size: 133957\n",
            "creation_date: 2025-03-19\n",
            "last_modified_date: 2025-03-19\n"
          ]
        }
      ],
      "source": [
        "print(docs[0].get_metadata_str())"
      ]
    },
    {
      "cell_type": "code",
      "execution_count": 7,
      "metadata": {
        "colab": {
          "base_uri": "https://localhost:8080/"
        },
        "id": "3khK3P-WgqPo",
        "outputId": "88685a0b-3663-4b14-825a-e341edeaa429"
      },
      "outputs": [
        {
          "data": {
            "text/plain": [
              "{'id_': '9069dbff-e1fb-481b-988c-4838c8fd6ab5',\n",
              " 'embedding': None,\n",
              " 'metadata': {'page_label': '1',\n",
              "  'file_name': 'serenatto_cafes_especiais (1).pdf',\n",
              "  'file_path': 'c:\\\\Users\\\\DSADM\\\\Desktop\\\\chatbot-sarah\\\\Aula06\\\\Documentos\\\\serenatto_cafes_especiais (1).pdf',\n",
              "  'file_type': 'application/pdf',\n",
              "  'file_size': 133957,\n",
              "  'creation_date': '2025-03-19',\n",
              "  'last_modified_date': '2025-03-19'},\n",
              " 'excluded_embed_metadata_keys': ['file_name',\n",
              "  'file_type',\n",
              "  'file_size',\n",
              "  'creation_date',\n",
              "  'last_modified_date',\n",
              "  'last_accessed_date'],\n",
              " 'excluded_llm_metadata_keys': ['file_name',\n",
              "  'file_type',\n",
              "  'file_size',\n",
              "  'creation_date',\n",
              "  'last_modified_date',\n",
              "  'last_accessed_date'],\n",
              " 'relationships': {},\n",
              " 'metadata_template': '{key}: {value}',\n",
              " 'metadata_separator': '\\n',\n",
              " 'text_resource': MediaResource(embeddings=None, data=None, text='Serenatto  –  Loja  online  de  cafés  especiais   Informações  gerais   P:  Quais  produtos  são  vendidos  no  site  da  Serenatto?  R:  A  Serenatto  é  uma  loja  online  especializada  na  venda  de  grãos  de  cafés  especiais,  \\noferecendo\\n \\ngrãos\\n \\ntorrados,\\n \\nprovenientes\\n \\nde\\n \\nfazendas\\n \\nselecionadas\\n \\nde\\n \\nMinas\\n \\nGerais.\\n \\nTodos\\n \\nos\\n \\nnossos\\n \\ncafés\\n \\npossuem\\n \\nnota\\n \\nSCA\\n \\nacima\\n \\nde\\n \\n80,\\n \\ngarantindo\\n \\nalta\\n \\nqualidade\\n \\ne\\n \\nperfis\\n \\nsensoriais\\n \\nexcepcionais.\\n  P:  De  onde  vêm  os  grãos  de  café  da  Serenatto?   R:  Nossos  grãos  são  cuidadosamente  selecionados  de  fazendas  localizadas  em  Minas  \\nGerais,\\n \\nconhecidas\\n \\npela\\n \\nalta\\n \\nqualidade\\n \\nde\\n \\nseus\\n \\ncafés\\n \\nespeciais.\\n \\nCada\\n \\nfazenda\\n \\né\\n \\nescolhida\\n \\npor\\n \\nsuas\\n \\npráticas\\n \\nsustentáveis\\n \\ne\\n \\npelo\\n \\ncuidado\\n \\nexcepcional\\n \\ncom\\n \\na\\n \\nprodução.\\n  P:  Qual  é  a  quantidade  vendida?  R:  Os  grãos  já  torrados  são  vendidos  em  pacotes  de  250g   P:  Quais  são  as  variedades  de  café  disponíveis?  R:  Trabalhamos  com  as  seguintes  variedades  de  café  em  grãos:  ●  Bourbon  vermelho  ●  Bourbon  amarelo  ●  Blend  especial  (Mistura  de  Bourbon  amarelo  e  vermelho)  ●  Catuaí  amarelo  ●  Geisha  ●  Yirgacheffe   P:  Quais  são  os  preços  de  cada  variedade  de  café?  R:  Os  preços  sãos  os  seguintes:  ●  Bourbon  vermelho:  R$  41,00  ●  Bourbon  amarelo:  R$  43,00  ●  Blend  especial:  R$  37,50  ●  Catuaí  amarelo:  R$  55,00  ●  Geisha:  R$  105,00  ●  Yirgacheffe:  R$  110,00      ', path=None, url=None, mimetype=None),\n",
              " 'image_resource': None,\n",
              " 'audio_resource': None,\n",
              " 'video_resource': None,\n",
              " 'text_template': '{metadata_str}\\n\\n{content}'}"
            ]
          },
          "execution_count": 7,
          "metadata": {},
          "output_type": "execute_result"
        }
      ],
      "source": [
        "docs[0].__dict__"
      ]
    },
    {
      "cell_type": "code",
      "execution_count": 8,
      "metadata": {
        "colab": {
          "base_uri": "https://localhost:8080/",
          "height": 49,
          "referenced_widgets": [
            "4c995bbb2f7743a58676692ab2684fa3",
            "6f04fb960df54b48a3d1ef9cec32cf28",
            "b7bc23af8cbb412cb79b485b137dc0d5",
            "353c1ddb5be04851a76f36fd3f9b85dd",
            "3f7a5fed4cca4874aac3442aaf114d3d",
            "832a9c023f4e4052815e341fc49f6109",
            "60a6b7ee18064076bc74a7d53a21cf06",
            "f4d5685a20204550af18d8c4ca09055d",
            "72df4b9589d044c7a2de1cc406511797",
            "cce84ddd9d2f43c1807bf9ec70d4d13c",
            "c363b51d4ffa447dbb6b5f2d97d0b612"
          ]
        },
        "id": "11ABVKqjgw9Q",
        "outputId": "df22cffa-8ed2-41e9-8af2-b8694a0137a1"
      },
      "outputs": [
        {
          "name": "stderr",
          "output_type": "stream",
          "text": [
            "C:\\Users\\DSADM\\AppData\\Roaming\\Python\\Python313\\site-packages\\tqdm\\auto.py:21: TqdmWarning: IProgress not found. Please update jupyter and ipywidgets. See https://ipywidgets.readthedocs.io/en/stable/user_install.html\n",
            "  from .autonotebook import tqdm as notebook_tqdm\n",
            "Parsing nodes: 100%|██████████| 10/10 [00:00<00:00, 1979.94it/s]\n"
          ]
        }
      ],
      "source": [
        "#importando da biblioteca\n",
        "from llama_index.core.node_parser import SentenceSplitter\n",
        "node_parser=SentenceSplitter(chunk_size=1200)\n",
        "nodes = node_parser.get_nodes_from_documents(docs,show_progress=True)"
      ]
    },
    {
      "cell_type": "code",
      "execution_count": 9,
      "metadata": {
        "colab": {
          "base_uri": "https://localhost:8080/"
        },
        "id": "Sr6EeByahNeZ",
        "outputId": "34651310-c8d7-43bf-8b3b-957315765ce9"
      },
      "outputs": [
        {
          "data": {
            "text/plain": [
              "[TextNode(id_='2afd2935-4734-4e64-ad44-41f8b3bb610b', embedding=None, metadata={'page_label': '1', 'file_name': 'serenatto_cafes_especiais (1).pdf', 'file_path': 'c:\\\\Users\\\\DSADM\\\\Desktop\\\\chatbot-sarah\\\\Aula06\\\\Documentos\\\\serenatto_cafes_especiais (1).pdf', 'file_type': 'application/pdf', 'file_size': 133957, 'creation_date': '2025-03-19', 'last_modified_date': '2025-03-19'}, excluded_embed_metadata_keys=['file_name', 'file_type', 'file_size', 'creation_date', 'last_modified_date', 'last_accessed_date'], excluded_llm_metadata_keys=['file_name', 'file_type', 'file_size', 'creation_date', 'last_modified_date', 'last_accessed_date'], relationships={<NodeRelationship.SOURCE: '1'>: RelatedNodeInfo(node_id='9069dbff-e1fb-481b-988c-4838c8fd6ab5', node_type=<ObjectType.DOCUMENT: '4'>, metadata={'page_label': '1', 'file_name': 'serenatto_cafes_especiais (1).pdf', 'file_path': 'c:\\\\Users\\\\DSADM\\\\Desktop\\\\chatbot-sarah\\\\Aula06\\\\Documentos\\\\serenatto_cafes_especiais (1).pdf', 'file_type': 'application/pdf', 'file_size': 133957, 'creation_date': '2025-03-19', 'last_modified_date': '2025-03-19'}, hash='820b277edf233136c5afd69d8b63f74658d9de4c25893c4e5d205bcb010e8b2e')}, metadata_template='{key}: {value}', metadata_separator='\\n', text='Serenatto  –  Loja  online  de  cafés  especiais   Informações  gerais   P:  Quais  produtos  são  vendidos  no  site  da  Serenatto?  R:  A  Serenatto  é  uma  loja  online  especializada  na  venda  de  grãos  de  cafés  especiais,  \\noferecendo\\n \\ngrãos\\n \\ntorrados,\\n \\nprovenientes\\n \\nde\\n \\nfazendas\\n \\nselecionadas\\n \\nde\\n \\nMinas\\n \\nGerais.\\n \\nTodos\\n \\nos\\n \\nnossos\\n \\ncafés\\n \\npossuem\\n \\nnota\\n \\nSCA\\n \\nacima\\n \\nde\\n \\n80,\\n \\ngarantindo\\n \\nalta\\n \\nqualidade\\n \\ne\\n \\nperfis\\n \\nsensoriais\\n \\nexcepcionais.\\n  P:  De  onde  vêm  os  grãos  de  café  da  Serenatto?   R:  Nossos  grãos  são  cuidadosamente  selecionados  de  fazendas  localizadas  em  Minas  \\nGerais,\\n \\nconhecidas\\n \\npela\\n \\nalta\\n \\nqualidade\\n \\nde\\n \\nseus\\n \\ncafés\\n \\nespeciais.\\n \\nCada\\n \\nfazenda\\n \\né\\n \\nescolhida\\n \\npor\\n \\nsuas\\n \\npráticas\\n \\nsustentáveis\\n \\ne\\n \\npelo\\n \\ncuidado\\n \\nexcepcional\\n \\ncom\\n \\na\\n \\nprodução.\\n  P:  Qual  é  a  quantidade  vendida?  R:  Os  grãos  já  torrados  são  vendidos  em  pacotes  de  250g   P:  Quais  são  as  variedades  de  café  disponíveis?  R:  Trabalhamos  com  as  seguintes  variedades  de  café  em  grãos:  ●  Bourbon  vermelho  ●  Bourbon  amarelo  ●  Blend  especial  (Mistura  de  Bourbon  amarelo  e  vermelho)  ●  Catuaí  amarelo  ●  Geisha  ●  Yirgacheffe   P:  Quais  são  os  preços  de  cada  variedade  de  café?  R:  Os  preços  sãos  os  seguintes:  ●  Bourbon  vermelho:  R$  41,00  ●  Bourbon  amarelo:  R$  43,00  ●  Blend  especial:  R$  37,50  ●  Catuaí  amarelo:  R$  55,00  ●  Geisha:  R$  105,00  ●  Yirgacheffe:  R$  110,00', mimetype='text/plain', start_char_idx=0, end_char_idx=1515, metadata_seperator='\\n', text_template='{metadata_str}\\n\\n{content}'),\n",
              " TextNode(id_='1810642d-f0f5-47bc-aa18-80f448ad1e30', embedding=None, metadata={'page_label': '2', 'file_name': 'serenatto_cafes_especiais (1).pdf', 'file_path': 'c:\\\\Users\\\\DSADM\\\\Desktop\\\\chatbot-sarah\\\\Aula06\\\\Documentos\\\\serenatto_cafes_especiais (1).pdf', 'file_type': 'application/pdf', 'file_size': 133957, 'creation_date': '2025-03-19', 'last_modified_date': '2025-03-19'}, excluded_embed_metadata_keys=['file_name', 'file_type', 'file_size', 'creation_date', 'last_modified_date', 'last_accessed_date'], excluded_llm_metadata_keys=['file_name', 'file_type', 'file_size', 'creation_date', 'last_modified_date', 'last_accessed_date'], relationships={<NodeRelationship.SOURCE: '1'>: RelatedNodeInfo(node_id='68b5b0e1-8122-4e4e-b448-004f8f392b1e', node_type=<ObjectType.DOCUMENT: '4'>, metadata={'page_label': '2', 'file_name': 'serenatto_cafes_especiais (1).pdf', 'file_path': 'c:\\\\Users\\\\DSADM\\\\Desktop\\\\chatbot-sarah\\\\Aula06\\\\Documentos\\\\serenatto_cafes_especiais (1).pdf', 'file_type': 'application/pdf', 'file_size': 133957, 'creation_date': '2025-03-19', 'last_modified_date': '2025-03-19'}, hash='bec847adca4a9c68d4526807d4fdfcd29c4c111dea59690f379b9554edd6a790')}, metadata_template='{key}: {value}', metadata_separator='\\n', text='P:  A  Serenatto  oferece  cafés  descafeinados?  R:  No  momento,  trabalhamos  apenas  com  cafés  especiais  que  contêm  cafeína.  Todos  \\nos\\n \\nnossos\\n \\ngrãos\\n \\nsão\\n \\nselecionados\\n \\npara\\n \\noferecer\\n \\na\\n \\nmelhor\\n \\nexperiência\\n \\nsensorial,\\n \\nmas\\n \\nnão\\n \\ntemos\\n \\nopções\\n \\ndescafeinadas\\n \\nem\\n \\nnosso\\n \\nportfólio.\\n  P:  Vocês  enviam  para  todos  os  estados  brasileiros?  R:  Sim,  os  cafés  são  enviados  para  todos  os  estados  brasileiros.    P:  Qual  é  o  prazo  de  envio?  R:  O  envio  dos  pedidos  é  realizado  em  até  3  dias  úteis  após  a  confirmação  do  \\npagamento,\\n \\npois\\n \\nenviamos\\n \\no\\n \\ncafé\\n \\nrecém\\n \\ntorrado\\n \\npara\\n \\ngarantir\\n \\nfrescor\\n \\ne\\n \\nqualidade.\\n  P:  Quais  são  os  métodos  de  pagamento  aceitos?  R:  Aceitamos  PIX,  boleto  bancário  e  cartão  de  crédito.   P:  Vocês  oferecem  cursos  ou  workshops  sobre  café?  R:  Estamos  planejando  oferecer  workshops  e  cursos  sobre  métodos  de  preparo  e  \\ndegustação\\n \\nde\\n \\ncafé\\n \\nem\\n \\nbreve.\\n \\nFique\\n \\nde\\n \\nolho\\n \\nem\\n \\nnossas\\n \\nredes\\n \\nsociais\\n \\ne\\n \\nnewsletter\\n \\npara\\n \\nmais\\n \\ninformações.\\n  P:  A  Serenatto  oferece  um  serviço  de  assinatura?   R:  Atualmente,  não  oferecemos  um  serviço  de  assinatura.  No  entanto,  você  pode  \\nrealizar\\n \\npedidos\\n \\nrecorrentes\\n \\nmanualmente\\n \\natravés\\n \\nde\\n \\nnosso\\n \\nsite.\\n \\nEstamos\\n \\nsempre\\n \\navaliando\\n \\nnovos\\n \\nserviços\\n \\nque\\n \\npossam\\n \\nmelhorar\\n \\na\\n \\nexperiência\\n \\nde\\n \\nnossos\\n \\nclientes,\\n \\nentão\\n \\nfique\\n \\natento\\n \\nàs\\n \\natualizações\\n \\nfuturas.\\n  P:  Onde  posso  tirar  mais  dúvidas?  R:  Para  mais  informações,  entre  em  contato  pelo  whatsapp  (11)  99999-9999  ou  envie  \\nemail\\n \\npara\\n \\ncontato@serenatto.com.br.', mimetype='text/plain', start_char_idx=0, end_char_idx=1671, metadata_seperator='\\n', text_template='{metadata_str}\\n\\n{content}'),\n",
              " TextNode(id_='77c27f73-fda4-4394-bdce-15f62c7971bb', embedding=None, metadata={'page_label': '3', 'file_name': 'serenatto_cafes_especiais (1).pdf', 'file_path': 'c:\\\\Users\\\\DSADM\\\\Desktop\\\\chatbot-sarah\\\\Aula06\\\\Documentos\\\\serenatto_cafes_especiais (1).pdf', 'file_type': 'application/pdf', 'file_size': 133957, 'creation_date': '2025-03-19', 'last_modified_date': '2025-03-19'}, excluded_embed_metadata_keys=['file_name', 'file_type', 'file_size', 'creation_date', 'last_modified_date', 'last_accessed_date'], excluded_llm_metadata_keys=['file_name', 'file_type', 'file_size', 'creation_date', 'last_modified_date', 'last_accessed_date'], relationships={<NodeRelationship.SOURCE: '1'>: RelatedNodeInfo(node_id='1c05251b-b96e-4cdd-b0bf-77e96e33d379', node_type=<ObjectType.DOCUMENT: '4'>, metadata={'page_label': '3', 'file_name': 'serenatto_cafes_especiais (1).pdf', 'file_path': 'c:\\\\Users\\\\DSADM\\\\Desktop\\\\chatbot-sarah\\\\Aula06\\\\Documentos\\\\serenatto_cafes_especiais (1).pdf', 'file_type': 'application/pdf', 'file_size': 133957, 'creation_date': '2025-03-19', 'last_modified_date': '2025-03-19'}, hash='65b2a41b84abe02a09183b5af96433fa65bc66d1ee2b2b14ad412aa9d26e11e2')}, metadata_template='{key}: {value}', metadata_separator='\\n', text='Variedades  dos  grãos   P:  Quais  são  as  características  de  cada  variedade  de  café?  R:  As  variedades  têm  as  seguintes  características:  ●  Bourbon  vermelho:  Doçura  intensa,  corpo  encorpado,  notas  de  chocolate.  ●  Bourbon  amarelo:  Acidez  vibrante,  notas  cítricas  de  maracujá,  ameixa  e  nêspera .   ●  Blend  especial:  Mistura  do  bourbon  vermelho  e  bourbon  amarelo,  gerando  \\nequilíbrio\\n \\nentre\\n \\ndoçura\\n \\ne\\n \\nacidez,\\n \\ncom\\n \\nnotas\\n \\nde\\n \\ncaramelo\\n \\ne\\n \\nchocolate.\\n ●  Catuaí  amarelo:  Perfil  exótico,  que  carrega  uma  expressiva  acidez  e  notas  de  \\nacerola\\n \\ne\\n \\npitanga.\\n \\n ●  Geisha:  Aroma  floral,  notas  de  jasmim  e  mamão  papaya.   ●  Yirgacheffe:  Acidez  vibrante,  notas  de  mel  de  laranjeira,  chá  de  capim-limão  e  \\nmaçã\\n \\nfuji.\\n \\n  P:  Quero  saber  mais  detalhes  sobre  o  Bourbon  vermelho.  R:  Este  café  possui  doçura  máxima  (5/5),  que  causa  sensação  aveludada  no  céu  da  \\nboca.\\n \\nO\\n \\ncorpo\\n \\né\\n \\nencorpado\\n \\n(5/5)\\n \\ne\\n \\na\\n \\nacidez\\n \\né\\n \\nbaixa\\n \\n(1/5),\\n \\ncom\\n \\num\\n \\nleve\\n \\namargor\\n \\n(2/5).\\n \\nSeu\\n \\nperfil\\n \\nsensorial\\n \\né\\n \\nmarcado\\n \\npor\\n \\nnotas\\n \\nde\\n \\nchocolate.\\n \\nO\\n \\nprocesso\\n \\nde\\n \\nprodução\\n \\né\\n \\nnatural,\\n \\ncultivado\\n \\nem\\n \\naltitudes\\n \\nentre\\n \\n1.200m\\n \\ne\\n \\n1.450m,\\n \\ncom\\n \\ntorra\\n \\nmédia\\n \\nescura.\\n \\n  P:  Quero  mais  detalhes  sobre  o  Bourbon  amarelo.  R:  Este  café  possui  doçura  moderada  (3/5),  corpo  médio  (3/5),  alta  acidez  (5/5)  e  baixo  \\namargor\\n \\n(1/5).\\n \\nPossui\\n \\nsabor\\n \\nresidual\\n \\nlongo\\n \\ne\\n \\nintenso\\n \\nde\\n \\nfrutas\\n \\ncítricas,\\n \\nincluindo\\n \\nnotas\\n \\nde\\n \\nmaracujá,\\n \\nameixa\\n \\ne\\n \\nnêspera.\\n \\nO\\n \\nprocesso\\n \\nutilizado\\n \\né\\n \\no\\n \\ncereja\\n \\ndescascado,\\n \\ncultivado\\n \\nem\\n \\naltitudes\\n \\nentre\\n \\n1.200m\\n \\ne\\n \\n1.450m,\\n \\ncom\\n \\ntorra\\n \\nmédia\\n \\nclara.\\n \\n  P:  Quero  saber  mais  detalhes  sobre  o  Blend  especial.  R:  É  uma  mistura  do  Bourbon  amarelo  com  o  Bourbon  vermelho,  ideal  para  quem  \\nbusca\\n \\no\\n \\nequilíbrio\\n \\nperfeito.\\n \\nEsta\\n \\nmistura\\n \\napresenta\\n \\ndoçura\\n \\nalta\\n \\n(4/5),\\n \\ncorpo\\n \\nmédio-alto\\n \\n(4/5)\\n \\ne\\n \\nacidez\\n \\nmédia-alta\\n \\n(4/5),\\n \\ncom\\n \\namargor\\n \\nbaixo\\n \\n(1/5).\\n \\nSeu\\n \\nperfil\\n \\nsensorial\\n \\ncombina\\n \\ncaramelo\\n \\ne\\n \\nchocolate.\\n \\nO\\n \\nprocesso\\n \\ninclui\\n \\ncereja\\n \\ndescascado\\n \\ne\\n \\nnatural,\\n \\ncultivado\\n \\nem\\n \\naltitudes\\n \\nentre\\n \\n1.200m\\n \\ne\\n \\n1.450m,\\n \\ncom\\n \\ntorra\\n \\nmédia.\\n  P:  Quero  mais  detalhes  sobre  o  Catuaí  amarelo.  R:  Este  café  possui  doçura  máxima  (5/5)  e  corpo  médio-alto  (4/5)  e  amargor  baixo  \\n(1/5).\\n \\nEle\\n \\nainda\\n \\ncarrega\\n \\numa\\n \\nexpressiva\\n \\nacidez\\n \\ne\\n \\nnotas\\n \\nmaravilhosas\\n \\nde\\n \\npitanga,\\n \\nfugindo\\n \\nmuito\\n \\ndo\\n \\ntradicional.\\n \\nÉ\\n \\num\\n \\ncafé\\n \\npara\\n \\nquem\\n \\nbusca\\n \\numa\\n \\nexperiência\\n \\nsensorial\\n \\ndiferenciada.\\n \\nO\\n \\nprocesso\\n \\né\\n \\nfermentado,\\n \\ncultivado\\n \\nem\\n \\naltitude\\n \\nde\\n \\n1.200m,\\n \\ncom\\n \\ntorra\\n \\nmédia.', mimetype='text/plain', start_char_idx=0, end_char_idx=2787, metadata_seperator='\\n', text_template='{metadata_str}\\n\\n{content}'),\n",
              " TextNode(id_='65fe0161-8fe0-41a5-9e3c-da77d7dc3449', embedding=None, metadata={'page_label': '4', 'file_name': 'serenatto_cafes_especiais (1).pdf', 'file_path': 'c:\\\\Users\\\\DSADM\\\\Desktop\\\\chatbot-sarah\\\\Aula06\\\\Documentos\\\\serenatto_cafes_especiais (1).pdf', 'file_type': 'application/pdf', 'file_size': 133957, 'creation_date': '2025-03-19', 'last_modified_date': '2025-03-19'}, excluded_embed_metadata_keys=['file_name', 'file_type', 'file_size', 'creation_date', 'last_modified_date', 'last_accessed_date'], excluded_llm_metadata_keys=['file_name', 'file_type', 'file_size', 'creation_date', 'last_modified_date', 'last_accessed_date'], relationships={<NodeRelationship.SOURCE: '1'>: RelatedNodeInfo(node_id='b9bd00cc-ae42-440f-85a4-398c46b77f9f', node_type=<ObjectType.DOCUMENT: '4'>, metadata={'page_label': '4', 'file_name': 'serenatto_cafes_especiais (1).pdf', 'file_path': 'c:\\\\Users\\\\DSADM\\\\Desktop\\\\chatbot-sarah\\\\Aula06\\\\Documentos\\\\serenatto_cafes_especiais (1).pdf', 'file_type': 'application/pdf', 'file_size': 133957, 'creation_date': '2025-03-19', 'last_modified_date': '2025-03-19'}, hash='b82102440f6699a6ddd49badfc337f8b613231e32c580166af49db205c8a577f')}, metadata_template='{key}: {value}', metadata_separator='\\n', text='P:  Quero  saber  mais  detalhes  sobre  o  Geisha.  R:  Este  café  premium  possui  doçura  máxima  (5/5),  corpo  encorpado  (5/5)  e  acidez  \\nmoderada-alta\\n \\n(4/5),\\n \\ncom\\n \\namargor\\n \\nbaixo\\n \\n(1/5).\\n \\nSeu\\n \\nperfil\\n \\nsensorial\\n \\ntem\\n \\naroma\\n \\nfloral\\n \\ne\\n \\né\\n \\nmarcado\\n \\npor\\n \\nnotas\\n \\nde\\n \\njasmim\\n \\ne\\n \\nmamão\\n \\npapaya.\\n \\nO\\n \\nprocesso\\n \\né\\n \\nfermentado,\\n \\ncultivado\\n \\nem\\n \\naltitude\\n \\nde\\n \\n1.150m,\\n \\ncom\\n \\ntorra\\n \\nclara.\\n  P:  Quero  saber  mais  detalhes  sobre  o  Yirgacheffe.   R:  Este  café  premium  possui  doçura  máxima  (5/5)  e  corpo  médio-alto  (4/5),  \\ndestacando-se\\n \\npela\\n \\nalta\\n \\nacidez\\n \\n(5/5)\\n \\ne\\n \\namargor\\n \\nbaixo\\n \\n(1/5).\\n \\nSeu\\n \\nperfil\\n \\nsensorial\\n \\ninclui\\n \\nnotas\\n \\nde\\n \\nmel\\n \\nde\\n \\nlaranjeira,\\n \\nchá\\n \\nde\\n \\ncapim-limão\\n \\ne\\n \\nmaçã\\n \\nfuji.\\n \\nA\\n \\nacidez\\n \\né\\n \\nvibrante,\\n \\ncom\\n \\ncorpo\\n \\nsedoso\\n \\ne\\n \\nfinalização\\n \\ndoce\\n \\nfrutada.\\n \\nO\\n \\nprocesso\\n \\né\\n \\nfermentado,\\n \\ncultivado\\n \\nem\\n \\naltitude\\n \\nde\\n \\n1.300m,\\n \\ncom\\n \\ntorra\\n \\nclara.\\n \\n  P:  Qual  café  da  Serenatto  é  mais  indicado  para  quem  prefere  sabores  suaves?  R:  Para  quem  prefere  sabores  suaves,  recomendamos  o  Bourbon  Vermelho,  que  \\npossui\\n \\ndoçura\\n \\nintensa,\\n \\ncorpo\\n \\nencorpado\\n \\ne\\n \\nnotas\\n \\nde\\n \\nchocolate,\\n \\ncom\\n \\nacidez\\n \\nbaixa\\n \\ne\\n \\namargor\\n \\nleve.\\n  P:  Qual  café  é  mais  indicado  para  quem  gosta  de  acidez  marcante?  R:  Se  você  aprecia  acidez  vibrante,  experimente  o  Bourbon  amarelo,  Catuaí  amarelo  \\nou\\n \\no\\n \\nYirgacheffe.\\n \\nAmbos\\n \\npossuem\\n \\nacidez\\n \\nalta\\n \\ne\\n \\nnotas\\n \\ncítricas\\n \\ne\\n \\nfrutadas\\n \\nque\\n \\ndestacam\\n \\nessa\\n \\ncaracterística.\\n  P:  Vocês  têm  cafés  com  notas  florais?  R:  Sim,  o  Geisha  é  a  melhor  opção  para  quem  busca  notas  florais.  Ele  possui  aroma  de  \\njasmim\\n \\ne\\n \\nnotas\\n \\nde\\n \\nmamão\\n \\npapaya,\\n \\ncom\\n \\numa\\n \\nacidez\\n \\nagradável\\n \\ne\\n \\ndoçura\\n \\nmáxima.\\n  P:  Como  posso  identificar  notas  diferentes  no  café?   R:  Identificar  notas  em  café  é  uma  habilidade  que  pode  ser  aprimorada  com  a  prática.  \\nComece\\n \\nprovando\\n \\ncafés\\n \\nde\\n \\ndiferentes\\n \\nregiões\\n \\ne\\n \\nprestando\\n \\natenção\\n \\nàs\\n \\ndescrições\\n \\ndas\\n \\nnotas\\n \\nna\\n \\nembalagem.\\n \\nTente\\n \\nidentificar\\n \\nessas\\n \\nnotas\\n \\nenquanto\\n \\nsaboreia\\n \\nlentamente,\\n \\nprestando\\n \\natenção\\n \\nao\\n \\naroma,\\n \\nsabor\\n \\ne\\n \\nsensação\\n \\nna\\n \\nboca.', mimetype='text/plain', start_char_idx=0, end_char_idx=2247, metadata_seperator='\\n', text_template='{metadata_str}\\n\\n{content}'),\n",
              " TextNode(id_='f505fe5e-f73f-46da-a716-1eb169e0ce4f', embedding=None, metadata={'page_label': '5', 'file_name': 'serenatto_cafes_especiais (1).pdf', 'file_path': 'c:\\\\Users\\\\DSADM\\\\Desktop\\\\chatbot-sarah\\\\Aula06\\\\Documentos\\\\serenatto_cafes_especiais (1).pdf', 'file_type': 'application/pdf', 'file_size': 133957, 'creation_date': '2025-03-19', 'last_modified_date': '2025-03-19'}, excluded_embed_metadata_keys=['file_name', 'file_type', 'file_size', 'creation_date', 'last_modified_date', 'last_accessed_date'], excluded_llm_metadata_keys=['file_name', 'file_type', 'file_size', 'creation_date', 'last_modified_date', 'last_accessed_date'], relationships={<NodeRelationship.SOURCE: '1'>: RelatedNodeInfo(node_id='0b5db84f-f399-47d6-9711-8e572edd7804', node_type=<ObjectType.DOCUMENT: '4'>, metadata={'page_label': '5', 'file_name': 'serenatto_cafes_especiais (1).pdf', 'file_path': 'c:\\\\Users\\\\DSADM\\\\Desktop\\\\chatbot-sarah\\\\Aula06\\\\Documentos\\\\serenatto_cafes_especiais (1).pdf', 'file_type': 'application/pdf', 'file_size': 133957, 'creation_date': '2025-03-19', 'last_modified_date': '2025-03-19'}, hash='7b9d1a9704af83f36026eef834fecb8eea42db04f1cf9e466ee59b770fe355d3')}, metadata_template='{key}: {value}', metadata_separator='\\n', text='Nota  SCA   P:  O  que  é  a  nota  SCA?  R:  A  nota  SCA  (Specialty  Coffee  Association)  é  uma  avaliação  que  classifica  a  \\nqualidade\\n \\ndo\\n \\ncafé\\n \\ncom\\n \\nbase\\n \\nem\\n \\ncritérios\\n \\npadronizados.\\n \\nA\\n \\npontuação\\n \\nvaria\\n \\nde\\n \\n0\\n \\na\\n \\n100,\\n \\ne\\n \\ncafés\\n \\ncom\\n \\nnota\\n \\nacima\\n \\nde\\n \\n80\\n \\nsão\\n \\nconsiderados\\n \\nespeciais.\\n \\nA\\n \\navaliação\\n \\nconsidera\\n \\naspectos\\n \\ncomo\\n \\naroma,\\n \\nsabor,\\n \\nacidez,\\n \\ncorpo,\\n \\nequilíbrio,\\n \\ndoçura\\n \\ne\\n \\nfinalização.\\n \\nCafés\\n \\ncom\\n \\nnotas\\n \\nacima\\n \\nde\\n \\n85\\n \\nsão\\n \\nde\\n \\naltíssima\\n \\nqualidade,\\n \\ne\\n \\nacima\\n \\nde\\n \\n90\\n \\nsão\\n \\nraros\\n \\ne\\n \\nexcepcionais.\\n  P:  Quais  são  as  notas  SCA  dos  cafés  da  Serenatto?  R:  Os  cafés  da  Serenatto  têm  as  seguintes  notas  SCA:  ●  Bourbon  vermelho:  85  ●  Bourbon  amarelo:  86  ●  Blend  especial:  85  ●  Catuaí  amarelo:  87  ●  Geisha:  90  ●  Yirgacheffe:  90    P:  Quais  são  os  cafés  mais  bem  avaliados  da  Serenatto?  R:  Geisha  e  Yirgacheffe.  Ambos  com  Nota  SCA  90.', mimetype='text/plain', start_char_idx=0, end_char_idx=967, metadata_seperator='\\n', text_template='{metadata_str}\\n\\n{content}'),\n",
              " TextNode(id_='656f88b1-7d64-4b82-99a2-56de1d500d87', embedding=None, metadata={'page_label': '6', 'file_name': 'serenatto_cafes_especiais (1).pdf', 'file_path': 'c:\\\\Users\\\\DSADM\\\\Desktop\\\\chatbot-sarah\\\\Aula06\\\\Documentos\\\\serenatto_cafes_especiais (1).pdf', 'file_type': 'application/pdf', 'file_size': 133957, 'creation_date': '2025-03-19', 'last_modified_date': '2025-03-19'}, excluded_embed_metadata_keys=['file_name', 'file_type', 'file_size', 'creation_date', 'last_modified_date', 'last_accessed_date'], excluded_llm_metadata_keys=['file_name', 'file_type', 'file_size', 'creation_date', 'last_modified_date', 'last_accessed_date'], relationships={<NodeRelationship.SOURCE: '1'>: RelatedNodeInfo(node_id='a71f4a67-1438-44c9-ac2a-6da3ea3de424', node_type=<ObjectType.DOCUMENT: '4'>, metadata={'page_label': '6', 'file_name': 'serenatto_cafes_especiais (1).pdf', 'file_path': 'c:\\\\Users\\\\DSADM\\\\Desktop\\\\chatbot-sarah\\\\Aula06\\\\Documentos\\\\serenatto_cafes_especiais (1).pdf', 'file_type': 'application/pdf', 'file_size': 133957, 'creation_date': '2025-03-19', 'last_modified_date': '2025-03-19'}, hash='7d31d424a8649ebae7cda3b323e92e3d6f9976ff390cf6ac18135ace057bdac6')}, metadata_template='{key}: {value}', metadata_separator='\\n', text='Produção  dos  cafés   P:  Quais  são  os  processos  de  produção  dos  cafés?  R:  Nossos  cafés  podem  ter  os  seguintes  processos  de  produção:  -  Natural:  Os  frutos  do  café  (cerejas)  são  secos  inteiros,  resultando  em  cafés  com  \\nalta\\n \\ndoçura,\\n \\ncorpo\\n \\nencorpado\\n \\ne\\n \\nnotas\\n \\nfrutadas\\n \\nou\\n \\nde\\n \\nchocolate.\\n -  Cereja  descascado:  A  casca  dos  frutos  do  café  é  removida,  mas  parte  da  polpa  \\npermanece,\\n \\ngerando\\n \\ncafés\\n \\ncom\\n \\ndoçura\\n \\nequilibrada,\\n \\ncorpo\\n \\nmédio\\n \\na\\n \\nencorpado\\n \\ne\\n \\nacidez\\n \\nmais\\n \\npronunciada,\\n \\ncom\\n \\nnotas\\n \\ncítricas\\n \\ne\\n \\nfrutadas\\n -  Fermentado:  O  processo  fermentado  envolve  a  secagem  das  cerejas  inteiras  \\ncom\\n \\nfermentação\\n \\ncontrolada,\\n \\ndestacando\\n \\nsabores\\n \\nexóticos.\\n  P:  Como  a  torra  influencia  no  sabor  do  café?  R:  As  torras  influenciam  da  seguinte  forma:   -  Torra  clara:  Preserva  notas  frutadas,  florais  e  cítricas,  com  acidez  vibrante  e  \\ncorpo\\n \\nleve.\\n -  Torra  média:  Equilíbrio  entre  doçura  e  acidez,  com  notas  de  chocolate,  caramelo  \\ne\\n \\nnozes,\\n \\nalém\\n \\nde\\n \\num\\n \\ncorpo\\n \\nmais\\n \\nencorpado.\\n -  Torra  escura:  Sabores  intensos  e  amargos,  acidez  baixa  e  corpo  pesado,  comum  \\nem\\n \\ncafés\\n \\npara\\n \\nespresso\\n \\nou\\n \\npara\\n \\nquem\\n \\nprefere\\n \\nsabores\\n \\nmais\\n \\nrobustos.\\n  P:  Como  a  altitude  afeta  os  grãos  de  café?   R:  A  altitude  em  que  os  grãos  de  café  são  cultivados  desempenha  um  papel  \\nfundamental\\n \\nno\\n \\ndesenvolvimento\\n \\ndas\\n \\ncaracterísticas\\n \\ndo\\n \\ncafé.\\n \\nDe\\n \\nmaneira\\n \\ngeral,\\n \\nquanto\\n \\nmaior\\n \\na\\n \\naltitude,\\n \\nmais\\n \\nlentamente\\n \\no\\n \\ncafé\\n \\namadurece.\\n \\nIsso\\n \\nproporciona\\n \\nmais\\n \\ntempo\\n \\npara\\n \\nque\\n \\nos\\n \\ngrãos\\n \\ndesenvolvam\\n \\nsabores\\n \\ncomplexos\\n \\ne\\n \\nnuances\\n \\naromáticas.', mimetype='text/plain', start_char_idx=0, end_char_idx=1742, metadata_seperator='\\n', text_template='{metadata_str}\\n\\n{content}'),\n",
              " TextNode(id_='c54232fb-ba2a-4887-bf44-e4ece0ac107c', embedding=None, metadata={'page_label': '7', 'file_name': 'serenatto_cafes_especiais (1).pdf', 'file_path': 'c:\\\\Users\\\\DSADM\\\\Desktop\\\\chatbot-sarah\\\\Aula06\\\\Documentos\\\\serenatto_cafes_especiais (1).pdf', 'file_type': 'application/pdf', 'file_size': 133957, 'creation_date': '2025-03-19', 'last_modified_date': '2025-03-19'}, excluded_embed_metadata_keys=['file_name', 'file_type', 'file_size', 'creation_date', 'last_modified_date', 'last_accessed_date'], excluded_llm_metadata_keys=['file_name', 'file_type', 'file_size', 'creation_date', 'last_modified_date', 'last_accessed_date'], relationships={<NodeRelationship.SOURCE: '1'>: RelatedNodeInfo(node_id='c049ca50-f50e-44f6-b2c5-47010c6318a7', node_type=<ObjectType.DOCUMENT: '4'>, metadata={'page_label': '7', 'file_name': 'serenatto_cafes_especiais (1).pdf', 'file_path': 'c:\\\\Users\\\\DSADM\\\\Desktop\\\\chatbot-sarah\\\\Aula06\\\\Documentos\\\\serenatto_cafes_especiais (1).pdf', 'file_type': 'application/pdf', 'file_size': 133957, 'creation_date': '2025-03-19', 'last_modified_date': '2025-03-19'}, hash='1e70188952fad1d0efcd020911e508a9dd2cf51c4a16f964c0c7c1c6868c68ec')}, metadata_template='{key}: {value}', metadata_separator='\\n', text='Modo  de  preparo  recomendado:  Coado   P:  Quanto  de  café  devo  usar  para  preparar  os  cafés  da  Serenatto?  R:  Para  obter  os  melhores  resultados  na  preparação  dos  nossos  cafés,  sugerimos  \\nseguir\\n \\numa\\n \\nreceita\\n \\nbase\\n \\nonde\\n \\n15\\n \\ngramas\\n \\nde\\n \\ncafé\\n \\nsão\\n \\nusados\\n \\npara\\n \\ncada\\n \\n240\\n \\nmL\\n \\nde\\n \\nágua.\\n \\nEsta\\n \\nproporção\\n \\n(1:16)\\n \\né\\n \\nideal\\n \\npara\\n \\numa\\n \\nextração\\n \\ncompleta\\n \\ndos\\n \\nsabores\\n \\nricos\\n \\ne\\n \\nnuances\\n \\ndo\\n \\ncafé.\\n \\nClaro,\\n \\nvocê\\n \\npode\\n \\najustar\\n \\nas\\n \\nmedidas\\n \\npara\\n \\nmais\\n \\nou\\n \\npara\\n \\nmenos\\n \\nconforme\\n \\nsua\\n \\npreferência.\\n \\nCaso\\n \\nseja\\n \\nsua\\n \\nprimeira\\n \\nexperiência\\n \\ncom\\n \\nnossos\\n \\ncafés,\\n \\nessa\\n \\nreceita\\n \\nserve\\n \\ncomo\\n \\num\\n \\nexcelente\\n \\nponto\\n \\nde\\n \\npartida.\\n  P:  Qual  método  vocês  recomendam  para  preparar  os  cafés  da  Serenatto?  R:  Nós  recomendamos  o  V60,  um  método  de  preparo  de  café  que  se  destaca  pelo  seu  \\nformato\\n \\ncônico\\n \\ncom\\n \\nlinhas\\n \\nespirais\\n \\ninternas\\n \\ne\\n \\numa\\n \\ngrande\\n \\nabertura\\n \\nna\\n \\nbase.\\n \\nEssas\\n \\ncaracterísticas\\n \\npermitem\\n \\num\\n \\ncontrole\\n \\npreciso\\n \\nsobre\\n \\na\\n \\ninfusão,\\n \\nresultando\\n \\nem\\n \\num\\n \\ncafé\\n \\ncom\\n \\nextração\\n \\nuniforme\\n \\ne\\n \\nrica\\n \\nem\\n \\nsabores.\\n  P:  Qual  é  o  passo  a  passo  para  preparar  o  café  coado?  R:  Você  pode  seguir  as  seguintes  etapas  do  preparo:  1.  Preparação  da  água:  Aqueça  a  água  até  uma  temperatura  entre  94ºC  e  96ºC.  2.  Pesagem  do  café:  Use  a  proporção  de  1  grama  de  café  para  cada  16  mL  de  água.  3.  Moagem  do  café:  Moa  o  café  até  atingir  uma  granulação  média-fina,  semelhante  a  \\naçúcar\\n \\ncristal.\\n \\n 4.  Preparação  do  filtro:  Coloque  o  filtro  de  papel  no  suporte  V60.  Antes  de  adicionar  o  \\ncafé,\\n \\nescalde\\n \\no\\n \\nfiltro\\n \\ncom\\n \\nágua\\n \\nquente\\n \\npara\\n \\nremover\\n \\nqualquer\\n \\nsabor\\n \\nde\\n \\npapel\\n \\ne\\n \\npré-aquecer\\n \\no\\n \\nsuporte.\\n 5.  Adição  do  café:  Despeje  o  pó  no  filtro.  6.  Infusão:  Adicione  a  água  quente  lentamente  sobre  o  café,  preferencialmente  em  \\nciclos,\\n \\ncomeçando\\n \\ndo\\n \\ncentro\\n \\ne\\n \\nmovendo\\n \\npara\\n \\nfora\\n \\nem\\n \\nmovimento\\n \\nespiral.\\n \\nIsso\\n \\najuda\\n \\na\\n \\ngarantir\\n \\numa\\n \\nextração\\n \\nuniforme\\n \\nde\\n \\ntodos\\n \\nos\\n \\nsabores\\n \\ne\\n \\naromas.\\n 7.  Finalização:  Após  a  passagem  da  água,  remova  o  filtro  e  descarte-o.  Agora  é  só  \\nservir\\n \\ne\\n \\ndesfrutar\\n \\ndo\\n \\nseu\\n \\ndelicioso\\n \\ncafé.\\n  P:  Que  tipo  de  água  devo  usar  para  fazer  café?   R:  Recomendamos  usar  água  filtrada  com  baixo  teor  de  minerais.  A  qualidade  da  água  \\ntem\\n \\num\\n \\ngrande\\n \\nimpacto\\n \\nno\\n \\nsabor\\n \\nfinal\\n \\ndo\\n \\ncafé,\\n \\npor\\n \\nisso\\n \\nágua\\n \\npura,\\n \\nsem\\n \\ncloro\\n \\nou\\n \\nimpurezas,\\n \\né\\n \\nessencial.', mimetype='text/plain', start_char_idx=0, end_char_idx=2614, metadata_seperator='\\n', text_template='{metadata_str}\\n\\n{content}'),\n",
              " TextNode(id_='a76402c8-1c16-4d25-9594-3455f18c6ec0', embedding=None, metadata={'page_label': '8', 'file_name': 'serenatto_cafes_especiais (1).pdf', 'file_path': 'c:\\\\Users\\\\DSADM\\\\Desktop\\\\chatbot-sarah\\\\Aula06\\\\Documentos\\\\serenatto_cafes_especiais (1).pdf', 'file_type': 'application/pdf', 'file_size': 133957, 'creation_date': '2025-03-19', 'last_modified_date': '2025-03-19'}, excluded_embed_metadata_keys=['file_name', 'file_type', 'file_size', 'creation_date', 'last_modified_date', 'last_accessed_date'], excluded_llm_metadata_keys=['file_name', 'file_type', 'file_size', 'creation_date', 'last_modified_date', 'last_accessed_date'], relationships={<NodeRelationship.SOURCE: '1'>: RelatedNodeInfo(node_id='a012fa26-4cc7-44c2-9340-695326f84092', node_type=<ObjectType.DOCUMENT: '4'>, metadata={'page_label': '8', 'file_name': 'serenatto_cafes_especiais (1).pdf', 'file_path': 'c:\\\\Users\\\\DSADM\\\\Desktop\\\\chatbot-sarah\\\\Aula06\\\\Documentos\\\\serenatto_cafes_especiais (1).pdf', 'file_type': 'application/pdf', 'file_size': 133957, 'creation_date': '2025-03-19', 'last_modified_date': '2025-03-19'}, hash='281a43472b035de033ca5d67c661522c00898eb0ec27cd7722cf6814cf12cd65')}, metadata_template='{key}: {value}', metadata_separator='\\n', text='Café  gelado   P:  Como  posso  preparar  café  gelado?   R:  Para  preparar  um  delicioso  café  gelado,  você  pode  usar  o  método  do  coado,  \\ncontendo\\n \\n40%\\n \\ndo\\n \\nvolume\\n \\nem\\n \\ngelo\\n \\ne\\n \\n60%\\n \\ndo\\n \\nvolume\\n \\nem\\n \\nágua\\n \\nquente,\\n \\nseguindo\\n \\nas\\n \\nseguintes\\n \\netapas:\\n 1.  Pesagem  do  café:  Use  a  proporção  de  1  grama  de  café  para  cada  16  mL  de  água  \\ntotal\\n 2.  Moagem  do  Café:  Moa  o  café  levemente  mais  fino  do  que  o  usado  para  coado  \\nnormal.\\n \\nIsso\\n \\najudará\\n \\nna\\n \\nextração\\n \\ndos\\n \\nsabores,\\n \\ndado\\n \\no\\n \\ntempo\\n \\nde\\n \\ncontato\\n \\nmais\\n \\ncurto\\n \\ncom\\n \\na\\n \\nágua.\\n 3.  Preparação  do  Filtro:  Coloque  o  filtro  de  papel  no  suporte  e  escalde-o  com  água  \\nquente.\\n \\nIsso\\n \\nremove\\n \\nqualquer\\n \\nsabor\\n \\nresidual\\n \\ndo\\n \\npapel\\n \\ne\\n \\najuda\\n \\na\\n \\npré-aquecer\\n \\no\\n \\nsuporte.\\n 4.  Preparação  do  Gelo:  Coloque  gelo  para  ocupar  cerca  de  40%  do  volume  total  da  sua  \\njarra\\n \\nou\\n \\nrecipiente.\\n 5.  Adição  do  café:  Despeje  o  pó  no  filtro.  6.  Pré-infusão:  Adicione  uma  pequena  quantidade  de  água  quente  (entre  94ºC  e  96ºC)  \\nsobre\\n \\no\\n \\ncafé\\n \\nmoído\\n \\nno\\n \\nfiltro,\\n \\nsuficiente\\n \\npara\\n \\numedecer\\n \\ntodo\\n \\no\\n \\ncafé.\\n \\nDeixe\\n \\nem\\n \\npré-infusão\\n \\npor\\n \\n1\\n \\nminuto\\n \\npara\\n \\nliberar\\n \\nos\\n \\nóleos\\n \\nessenciais\\n \\ne\\n \\naromas\\n \\ndo\\n \\ncafé.\\n \\n 7.  Despejo:  Após  a  pré-infusão,  continue  adicionando  a  água  quente  em  ciclos,  \\ndespejando\\n \\nlentamente\\n \\nem\\n \\nmovimentos\\n \\ncirculares\\n \\npara\\n \\ngarantir\\n \\numa\\n \\nextração\\n \\nuniforme.\\n 8.  Finalização:  Após  completar  os  despejos,  deixe  o  café  terminar  de  filtrar  sobre  o  \\ngelo.\\n \\nO\\n \\ngelo\\n \\nderreterá\\n \\nparcialmente,\\n \\nresfriando\\n \\no\\n \\ncafé\\n \\ninstantaneamente\\n \\ne\\n \\ndiluindo-o\\n \\nna\\n \\nproporção\\n \\ncorreta.\\n Este  método  garante  um  café  coado  gelado  refrescante  e  saboroso,  perfeito  para  os  \\ndias\\n \\nmais\\n \\nquentes!', mimetype='text/plain', start_char_idx=0, end_char_idx=1842, metadata_seperator='\\n', text_template='{metadata_str}\\n\\n{content}'),\n",
              " TextNode(id_='9ae78e5c-be58-4fae-8df4-ce53fd11915b', embedding=None, metadata={'page_label': '9', 'file_name': 'serenatto_cafes_especiais (1).pdf', 'file_path': 'c:\\\\Users\\\\DSADM\\\\Desktop\\\\chatbot-sarah\\\\Aula06\\\\Documentos\\\\serenatto_cafes_especiais (1).pdf', 'file_type': 'application/pdf', 'file_size': 133957, 'creation_date': '2025-03-19', 'last_modified_date': '2025-03-19'}, excluded_embed_metadata_keys=['file_name', 'file_type', 'file_size', 'creation_date', 'last_modified_date', 'last_accessed_date'], excluded_llm_metadata_keys=['file_name', 'file_type', 'file_size', 'creation_date', 'last_modified_date', 'last_accessed_date'], relationships={<NodeRelationship.SOURCE: '1'>: RelatedNodeInfo(node_id='0c73ab21-3bb6-44e8-b3f8-370c4bad3b53', node_type=<ObjectType.DOCUMENT: '4'>, metadata={'page_label': '9', 'file_name': 'serenatto_cafes_especiais (1).pdf', 'file_path': 'c:\\\\Users\\\\DSADM\\\\Desktop\\\\chatbot-sarah\\\\Aula06\\\\Documentos\\\\serenatto_cafes_especiais (1).pdf', 'file_type': 'application/pdf', 'file_size': 133957, 'creation_date': '2025-03-19', 'last_modified_date': '2025-03-19'}, hash='e5c7da153d92739e466a244bd1e759d2fa4ad4750b87c2f140fed396d5411676')}, metadata_template='{key}: {value}', metadata_separator='\\n', text='Outros  métodos  de  preparo  além  do  recomendado:   P:  Posso  usar  os  cafés  da  Serenatto  em  máquinas  de  espresso?  R:  Sim,  nossos  cafés  podem  ser  usados  em  máquinas  de  espresso.  Para  esse  método,  \\nrecomendamos\\n \\numa\\n \\nmoagem\\n \\nfina\\n \\ne\\n \\ncafés\\n \\ncom\\n \\ntorra\\n \\nmédia\\n \\nou\\n \\nescura,\\n \\ncomo\\n \\no\\n \\nBourbon\\n \\nvermelho\\n \\nou\\n \\no\\n \\nBlend\\n \\nespecial,\\n \\nque\\n \\npossuem\\n \\ncorpo\\n \\nencorpado\\n \\ne\\n \\nsabores\\n \\nintensos.\\n  P:  Vocês  têm  dicas  para  French  Press?  R:  Para  o  French  Press,  recomendamos  uma  moagem  grossa  e  uma  proporção  de  \\n1:15\\n \\n(1\\n \\ngrama\\n \\nde\\n \\ncafé\\n \\npara\\n \\n15\\n \\nmL\\n \\nde\\n \\nágua).\\n \\nUse\\n \\nágua\\n \\na\\n \\n94ºC\\n \\ne\\n \\ndeixe\\n \\no\\n \\ncafé\\n \\nem\\n \\ninfusão\\n \\npor\\n \\n4\\n \\nminutos.\\n \\nDepois,\\n \\npressione\\n \\no\\n \\nêmbolo\\n \\nlentamente\\n \\ne\\n \\nsirva\\n \\nimediatamente.\\n  P:  Qual  café  é  melhor  para  preparo  cold  brew?  R:  Para  cold  brew,  recomendamos  o  Catuaí  amarelo  ou  o  yirgacheffe,  que  possuem  \\nnotas\\n \\nfrutadas\\n \\ne\\n \\nacidez\\n \\nvibrante,\\n \\ncaracterísticas\\n \\nque\\n \\nse\\n \\ndestacam\\n \\nnesse\\n \\nmétodo\\n \\nde\\n \\npreparo.\\n \\nUse\\n \\numa\\n \\nmoagem\\n \\ngrossa\\n \\ne\\n \\ndeixe\\n \\nem\\n \\ninfusão\\n \\npor\\n \\n12\\n \\na\\n \\n24\\n \\nhoras\\n \\nna\\n \\ngeladeira.\\n  P:  Qual  é  a  moagem  ideal  para  diferentes  tipos  de  preparo?   R:  A  moagem  varia  de  acordo  com  o  método  de  preparo:  ●  Espresso:  Moagem  fina  ●  V60:  Moagem  média-fina  ●  French  Press:  Moagem  grossa  ●  Cold  Brew:  Moagem  grossa   Adaptar  a  moagem  ao  método  de  preparo  ajuda  a  maximizar  o  sabor  e  a  qualidade  da  \\nbebida.\\n  P:  Por  que  moer  o  café  na  hora  é  importante?  R:  Moer  o  café  na  hora  é  essencial  para  garantir  uma  bebida  de  alta  qualidade,  pois  \\npreserva\\n \\no\\n \\nfrescor,\\n \\no\\n \\naroma\\n \\ne\\n \\nos\\n \\nsabores\\n \\nnaturais\\n \\ndos\\n \\ngrãos.\\n \\nQuando\\n \\no\\n \\ncafé\\n \\né\\n \\nmoído,\\n \\nseus\\n \\nóleos\\n \\ne\\n \\ncompostos\\n \\naromáticos\\n \\ncomeçam\\n \\na\\n \\nse\\n \\ndegradar\\n \\nrapidamente\\n \\nem\\n \\ncontato\\n \\ncom\\n \\no\\n \\nar.\\n \\nMoer\\n \\nna\\n \\nhora\\n \\nevita\\n \\nessa\\n \\nperda,\\n \\nresultando\\n \\nem\\n \\num\\n \\ncafé\\n \\nmais\\n \\nrico\\n \\ne\\n \\nsaboroso.\\n \\nAlém\\n \\ndisso,\\n \\npermite\\n \\najustar\\n \\na\\n \\nmoagem\\n \\npara\\n \\no\\n \\nmétodo\\n \\nde\\n \\npreparo\\n \\nescolhido,\\n \\ngarantindo\\n \\numa\\n \\nextração\\n \\nequilibrada\\n \\ne\\n \\nevitando\\n \\nsabores\\n \\naguados\\n \\nou\\n \\namargos.', mimetype='text/plain', start_char_idx=0, end_char_idx=2207, metadata_seperator='\\n', text_template='{metadata_str}\\n\\n{content}'),\n",
              " TextNode(id_='e560c8bd-a54c-4a3a-91c9-8a8c9061df84', embedding=None, metadata={'page_label': '10', 'file_name': 'serenatto_cafes_especiais (1).pdf', 'file_path': 'c:\\\\Users\\\\DSADM\\\\Desktop\\\\chatbot-sarah\\\\Aula06\\\\Documentos\\\\serenatto_cafes_especiais (1).pdf', 'file_type': 'application/pdf', 'file_size': 133957, 'creation_date': '2025-03-19', 'last_modified_date': '2025-03-19'}, excluded_embed_metadata_keys=['file_name', 'file_type', 'file_size', 'creation_date', 'last_modified_date', 'last_accessed_date'], excluded_llm_metadata_keys=['file_name', 'file_type', 'file_size', 'creation_date', 'last_modified_date', 'last_accessed_date'], relationships={<NodeRelationship.SOURCE: '1'>: RelatedNodeInfo(node_id='54db93bb-1d14-4f5b-a630-10979faef594', node_type=<ObjectType.DOCUMENT: '4'>, metadata={'page_label': '10', 'file_name': 'serenatto_cafes_especiais (1).pdf', 'file_path': 'c:\\\\Users\\\\DSADM\\\\Desktop\\\\chatbot-sarah\\\\Aula06\\\\Documentos\\\\serenatto_cafes_especiais (1).pdf', 'file_type': 'application/pdf', 'file_size': 133957, 'creation_date': '2025-03-19', 'last_modified_date': '2025-03-19'}, hash='54ca4fc7b770a7c832c0b03e122cb6d0dfd82241edbe306a0161b80d8ed17a5a')}, metadata_template='{key}: {value}', metadata_separator='\\n', text='Armazenamento  e  validade   P:  Como  devo  armazenar  os  grãos  de  café  para  manter  a  qualidade?  R:  Recomendamos  armazenar  os  grãos  em  um  recipiente  hermético,  longe  da  umidade  \\ne\\n \\ncalor.\\n \\nEvite\\n \\nguardar\\n \\no\\n \\ncafé\\n \\nna\\n \\ngeladeira,\\n \\npois\\n \\na\\n \\numidade\\n \\ne\\n \\nas\\n \\nvariações\\n \\nde\\n \\ntemperatura\\n \\npodem\\n \\nprejudicar\\n \\no\\n \\nsabor\\n \\ne\\n \\no\\n \\naroma.\\n  P:  Qual  é  a  validade  dos  cafés  da  Serenatto?  R:  Nossos  cafés  são  enviados  recém-torrados  para  garantir  frescor.  Para  uma  \\nexperiência\\n \\nmelhor\\n \\ncom\\n \\nas\\n \\ncaracterísticas\\n \\ndas\\n \\nnotas\\n \\nsensoriais\\n \\ne\\n \\na\\n \\nintensidade\\n \\ndo\\n \\naroma,\\n \\no\\n \\nconsumo\\n \\ndeve\\n \\nser\\n \\nentre\\n \\ntrês\\n \\ne\\n \\nquatro\\n \\nmeses.\\n \\nNo\\n \\nentanto,\\n \\ndepois\\n \\nde\\n \\naberto,\\n \\no\\n \\nconsumo\\n \\ndeve\\n \\nser,\\n \\nde\\n \\npreferência,\\n \\nentre\\n \\nduas\\n \\n(quando\\n \\nestiver\\n \\nmoído)\\n \\na\\n \\nquatro\\n \\nsemanas\\n \\n(em\\n \\ngrãos)\\n \\nda\\n \\ndata\\n \\nda\\n \\ntorra.', mimetype='text/plain', start_char_idx=0, end_char_idx=884, metadata_seperator='\\n', text_template='{metadata_str}\\n\\n{content}')]"
            ]
          },
          "execution_count": 9,
          "metadata": {},
          "output_type": "execute_result"
        }
      ],
      "source": [
        "nodes"
      ]
    },
    {
      "cell_type": "code",
      "execution_count": 10,
      "metadata": {
        "colab": {
          "base_uri": "https://localhost:8080/"
        },
        "id": "LxhI8FiIhUuZ",
        "outputId": "95334e9d-4a5b-4bcf-a184-71ec8e27981d"
      },
      "outputs": [
        {
          "data": {
            "text/plain": [
              "10"
            ]
          },
          "execution_count": 10,
          "metadata": {},
          "output_type": "execute_result"
        }
      ],
      "source": [
        "len(nodes)"
      ]
    },
    {
      "cell_type": "code",
      "execution_count": 11,
      "metadata": {
        "colab": {
          "base_uri": "https://localhost:8080/"
        },
        "id": "z2EhZjR5hYfo",
        "outputId": "18ffa308-58b8-44a2-d527-303673aa8cd1"
      },
      "outputs": [
        {
          "data": {
            "text/plain": [
              "TextNode(id_='2afd2935-4734-4e64-ad44-41f8b3bb610b', embedding=None, metadata={'page_label': '1', 'file_name': 'serenatto_cafes_especiais (1).pdf', 'file_path': 'c:\\\\Users\\\\DSADM\\\\Desktop\\\\chatbot-sarah\\\\Aula06\\\\Documentos\\\\serenatto_cafes_especiais (1).pdf', 'file_type': 'application/pdf', 'file_size': 133957, 'creation_date': '2025-03-19', 'last_modified_date': '2025-03-19'}, excluded_embed_metadata_keys=['file_name', 'file_type', 'file_size', 'creation_date', 'last_modified_date', 'last_accessed_date'], excluded_llm_metadata_keys=['file_name', 'file_type', 'file_size', 'creation_date', 'last_modified_date', 'last_accessed_date'], relationships={<NodeRelationship.SOURCE: '1'>: RelatedNodeInfo(node_id='9069dbff-e1fb-481b-988c-4838c8fd6ab5', node_type=<ObjectType.DOCUMENT: '4'>, metadata={'page_label': '1', 'file_name': 'serenatto_cafes_especiais (1).pdf', 'file_path': 'c:\\\\Users\\\\DSADM\\\\Desktop\\\\chatbot-sarah\\\\Aula06\\\\Documentos\\\\serenatto_cafes_especiais (1).pdf', 'file_type': 'application/pdf', 'file_size': 133957, 'creation_date': '2025-03-19', 'last_modified_date': '2025-03-19'}, hash='820b277edf233136c5afd69d8b63f74658d9de4c25893c4e5d205bcb010e8b2e')}, metadata_template='{key}: {value}', metadata_separator='\\n', text='Serenatto  –  Loja  online  de  cafés  especiais   Informações  gerais   P:  Quais  produtos  são  vendidos  no  site  da  Serenatto?  R:  A  Serenatto  é  uma  loja  online  especializada  na  venda  de  grãos  de  cafés  especiais,  \\noferecendo\\n \\ngrãos\\n \\ntorrados,\\n \\nprovenientes\\n \\nde\\n \\nfazendas\\n \\nselecionadas\\n \\nde\\n \\nMinas\\n \\nGerais.\\n \\nTodos\\n \\nos\\n \\nnossos\\n \\ncafés\\n \\npossuem\\n \\nnota\\n \\nSCA\\n \\nacima\\n \\nde\\n \\n80,\\n \\ngarantindo\\n \\nalta\\n \\nqualidade\\n \\ne\\n \\nperfis\\n \\nsensoriais\\n \\nexcepcionais.\\n  P:  De  onde  vêm  os  grãos  de  café  da  Serenatto?   R:  Nossos  grãos  são  cuidadosamente  selecionados  de  fazendas  localizadas  em  Minas  \\nGerais,\\n \\nconhecidas\\n \\npela\\n \\nalta\\n \\nqualidade\\n \\nde\\n \\nseus\\n \\ncafés\\n \\nespeciais.\\n \\nCada\\n \\nfazenda\\n \\né\\n \\nescolhida\\n \\npor\\n \\nsuas\\n \\npráticas\\n \\nsustentáveis\\n \\ne\\n \\npelo\\n \\ncuidado\\n \\nexcepcional\\n \\ncom\\n \\na\\n \\nprodução.\\n  P:  Qual  é  a  quantidade  vendida?  R:  Os  grãos  já  torrados  são  vendidos  em  pacotes  de  250g   P:  Quais  são  as  variedades  de  café  disponíveis?  R:  Trabalhamos  com  as  seguintes  variedades  de  café  em  grãos:  ●  Bourbon  vermelho  ●  Bourbon  amarelo  ●  Blend  especial  (Mistura  de  Bourbon  amarelo  e  vermelho)  ●  Catuaí  amarelo  ●  Geisha  ●  Yirgacheffe   P:  Quais  são  os  preços  de  cada  variedade  de  café?  R:  Os  preços  sãos  os  seguintes:  ●  Bourbon  vermelho:  R$  41,00  ●  Bourbon  amarelo:  R$  43,00  ●  Blend  especial:  R$  37,50  ●  Catuaí  amarelo:  R$  55,00  ●  Geisha:  R$  105,00  ●  Yirgacheffe:  R$  110,00', mimetype='text/plain', start_char_idx=0, end_char_idx=1515, metadata_seperator='\\n', text_template='{metadata_str}\\n\\n{content}')"
            ]
          },
          "execution_count": 11,
          "metadata": {},
          "output_type": "execute_result"
        }
      ],
      "source": [
        "nodes[0]"
      ]
    },
    {
      "cell_type": "code",
      "execution_count": 12,
      "metadata": {
        "colab": {
          "base_uri": "https://localhost:8080/"
        },
        "id": "E8xhErcfhZUg",
        "outputId": "f1289ed1-faea-4c5d-8191-3b89aeb6307b"
      },
      "outputs": [
        {
          "data": {
            "text/plain": [
              "TextNode(id_='e560c8bd-a54c-4a3a-91c9-8a8c9061df84', embedding=None, metadata={'page_label': '10', 'file_name': 'serenatto_cafes_especiais (1).pdf', 'file_path': 'c:\\\\Users\\\\DSADM\\\\Desktop\\\\chatbot-sarah\\\\Aula06\\\\Documentos\\\\serenatto_cafes_especiais (1).pdf', 'file_type': 'application/pdf', 'file_size': 133957, 'creation_date': '2025-03-19', 'last_modified_date': '2025-03-19'}, excluded_embed_metadata_keys=['file_name', 'file_type', 'file_size', 'creation_date', 'last_modified_date', 'last_accessed_date'], excluded_llm_metadata_keys=['file_name', 'file_type', 'file_size', 'creation_date', 'last_modified_date', 'last_accessed_date'], relationships={<NodeRelationship.SOURCE: '1'>: RelatedNodeInfo(node_id='54db93bb-1d14-4f5b-a630-10979faef594', node_type=<ObjectType.DOCUMENT: '4'>, metadata={'page_label': '10', 'file_name': 'serenatto_cafes_especiais (1).pdf', 'file_path': 'c:\\\\Users\\\\DSADM\\\\Desktop\\\\chatbot-sarah\\\\Aula06\\\\Documentos\\\\serenatto_cafes_especiais (1).pdf', 'file_type': 'application/pdf', 'file_size': 133957, 'creation_date': '2025-03-19', 'last_modified_date': '2025-03-19'}, hash='54ca4fc7b770a7c832c0b03e122cb6d0dfd82241edbe306a0161b80d8ed17a5a')}, metadata_template='{key}: {value}', metadata_separator='\\n', text='Armazenamento  e  validade   P:  Como  devo  armazenar  os  grãos  de  café  para  manter  a  qualidade?  R:  Recomendamos  armazenar  os  grãos  em  um  recipiente  hermético,  longe  da  umidade  \\ne\\n \\ncalor.\\n \\nEvite\\n \\nguardar\\n \\no\\n \\ncafé\\n \\nna\\n \\ngeladeira,\\n \\npois\\n \\na\\n \\numidade\\n \\ne\\n \\nas\\n \\nvariações\\n \\nde\\n \\ntemperatura\\n \\npodem\\n \\nprejudicar\\n \\no\\n \\nsabor\\n \\ne\\n \\no\\n \\naroma.\\n  P:  Qual  é  a  validade  dos  cafés  da  Serenatto?  R:  Nossos  cafés  são  enviados  recém-torrados  para  garantir  frescor.  Para  uma  \\nexperiência\\n \\nmelhor\\n \\ncom\\n \\nas\\n \\ncaracterísticas\\n \\ndas\\n \\nnotas\\n \\nsensoriais\\n \\ne\\n \\na\\n \\nintensidade\\n \\ndo\\n \\naroma,\\n \\no\\n \\nconsumo\\n \\ndeve\\n \\nser\\n \\nentre\\n \\ntrês\\n \\ne\\n \\nquatro\\n \\nmeses.\\n \\nNo\\n \\nentanto,\\n \\ndepois\\n \\nde\\n \\naberto,\\n \\no\\n \\nconsumo\\n \\ndeve\\n \\nser,\\n \\nde\\n \\npreferência,\\n \\nentre\\n \\nduas\\n \\n(quando\\n \\nestiver\\n \\nmoído)\\n \\na\\n \\nquatro\\n \\nsemanas\\n \\n(em\\n \\ngrãos)\\n \\nda\\n \\ndata\\n \\nda\\n \\ntorra.', mimetype='text/plain', start_char_idx=0, end_char_idx=884, metadata_seperator='\\n', text_template='{metadata_str}\\n\\n{content}')"
            ]
          },
          "execution_count": 12,
          "metadata": {},
          "output_type": "execute_result"
        }
      ],
      "source": [
        "nodes[9]"
      ]
    },
    {
      "cell_type": "code",
      "execution_count": 13,
      "metadata": {
        "id": "qpKWQOHLhmzo"
      },
      "outputs": [
        {
          "name": "stdout",
          "output_type": "stream",
          "text": [
            "Note: you may need to restart the kernel to use updated packages.\n"
          ]
        },
        {
          "name": "stderr",
          "output_type": "stream",
          "text": [
            "\n",
            "[notice] A new release of pip is available: 24.3.1 -> 25.0.1\n",
            "[notice] To update, run: python.exe -m pip install --upgrade pip\n"
          ]
        }
      ],
      "source": [
        "#instalação do hugging face\n",
        "%pip install -q llama-index-embeddings-huggingface"
      ]
    },
    {
      "cell_type": "code",
      "execution_count": 14,
      "metadata": {
        "id": "gDalsxZGh4S4"
      },
      "outputs": [],
      "source": [
        "from llama_index.embeddings.huggingface import HuggingFaceEmbedding"
      ]
    },
    {
      "cell_type": "code",
      "execution_count": 15,
      "metadata": {
        "id": "_U1PsPTliFx_"
      },
      "outputs": [],
      "source": [
        "#Classe personalizada para integrar ao Chroma db\n",
        "\n",
        "class ChromaEmbeddingWrapper:\n",
        "  def __init__(self, model_name:str): #inicializa com modelo embedding\n",
        "    self.model=HuggingFaceEmbedding(model_name = model_name)\n",
        "\n",
        "  def __call__(self, input): #converte a entrada para o formato compativel hugging face\n",
        "    return self.model.embed(input)"
      ]
    },
    {
      "cell_type": "code",
      "execution_count": 16,
      "metadata": {
        "id": "aR67Lov4jYP-"
      },
      "outputs": [
        {
          "name": "stderr",
          "output_type": "stream",
          "text": [
            "C:\\Users\\DSADM\\AppData\\Roaming\\Python\\Python313\\site-packages\\huggingface_hub\\file_download.py:142: UserWarning: `huggingface_hub` cache-system uses symlinks by default to efficiently store duplicated files but your machine does not support them in C:\\Users\\DSADM\\AppData\\Local\\llama_index\\models--intfloat--multilingual-e5-large. Caching files will still work but in a degraded version that might require more space on your disk. This warning can be disabled by setting the `HF_HUB_DISABLE_SYMLINKS_WARNING` environment variable. For more details, see https://huggingface.co/docs/huggingface_hub/how-to-cache#limitations.\n",
            "To support symlinks on Windows, you either need to activate Developer Mode or to run Python as an administrator. In order to activate developer mode, see this article: https://docs.microsoft.com/en-us/windows/apps/get-started/enable-your-device-for-development\n",
            "  warnings.warn(message)\n"
          ]
        }
      ],
      "source": [
        "embed_model_chroma= ChromaEmbeddingWrapper(model_name='intfloat/multilingual-e5-large')"
      ]
    },
    {
      "cell_type": "code",
      "execution_count": 23,
      "metadata": {
        "id": "-dFg5uuAjljv"
      },
      "outputs": [
        {
          "name": "stdout",
          "output_type": "stream",
          "text": [
            "Note: you may need to restart the kernel to use updated packages.\n"
          ]
        }
      ],
      "source": [
        "# instalação do chroma db\n",
        "%pip install -q llama-index-vector-stores-chroma"
      ]
    },
    {
      "cell_type": "code",
      "execution_count": 24,
      "metadata": {
        "id": "tjv7rfwajw7_"
      },
      "outputs": [],
      "source": [
        "#importando crhoma db\n",
        "\n",
        "import chromadb\n",
        "db = chromadb.PersistentClient(path='./chroma_db')\n",
        "chroma_client= db\n",
        "collection_name = 'documentos_serenatto'\n",
        "\n",
        "try:\n",
        "  chroma_collection = chroma_client.get_or_create_collection(name=collection_name)\n",
        "  embadding_function = embed_model_chroma\n",
        "\n",
        "except Exception as e:\n",
        "  print(f'Erro ao criar coleção {e}')"
      ]
    },
    {
      "cell_type": "code",
      "execution_count": 25,
      "metadata": {
        "id": "yxjTiB-MkosE"
      },
      "outputs": [],
      "source": [
        "from llama_index.vector_stores.chroma import ChromaVectorStore\n",
        "from llama_index.core import StorageContext"
      ]
    },
    {
      "cell_type": "code",
      "execution_count": 26,
      "metadata": {
        "id": "x1OVWzUzk1pz"
      },
      "outputs": [],
      "source": [
        "#criando a coleção banco de dados\n",
        "vector_store = ChromaVectorStore(chroma_collection=chroma_collection)\n",
        "storage_context = StorageContext.from_defaults(vector_store=vector_store)"
      ]
    },
    {
      "cell_type": "code",
      "execution_count": 27,
      "metadata": {
        "id": "PR3EWbYalY56"
      },
      "outputs": [],
      "source": [
        "embed_model = HuggingFaceEmbedding(model_name='intfloat/multilingual-e5-large')"
      ]
    },
    {
      "cell_type": "code",
      "execution_count": 28,
      "metadata": {
        "id": "BC3aNQIIlfLK"
      },
      "outputs": [],
      "source": [
        "from llama_index.core import VectorStoreIndex"
      ]
    },
    {
      "cell_type": "code",
      "execution_count": 29,
      "metadata": {
        "id": "YKchTmRDlk06"
      },
      "outputs": [],
      "source": [
        "index = VectorStoreIndex(nodes, storage_context=storage_context, embed_model=embed_model)"
      ]
    },
    {
      "cell_type": "code",
      "execution_count": 30,
      "metadata": {
        "id": "oQ7SRMTqlpnq"
      },
      "outputs": [],
      "source": [
        "from llama_index.core import load_index_from_storage\n",
        "index = load_index_from_storage(storage_context, embed_model=embed_model)"
      ]
    },
    {
      "cell_type": "code",
      "execution_count": 35,
      "metadata": {
        "id": "pupl9LXqmgxZ"
      },
      "outputs": [],
      "source": [
        "Groq_api = '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'"
      ]
    },
    {
      "cell_type": "code",
      "execution_count": 36,
      "metadata": {
        "id": "3OD-y87Wm-4H"
      },
      "outputs": [
        {
          "name": "stdout",
          "output_type": "stream",
          "text": [
            "Note: you may need to restart the kernel to use updated packages.\n"
          ]
        }
      ],
      "source": [
        "%pip install -q llama-index-llms-groq"
      ]
    },
    {
      "cell_type": "code",
      "execution_count": 37,
      "metadata": {
        "id": "2KVG1nExnNIj"
      },
      "outputs": [],
      "source": [
        "from llama_index.llms.groq import Groq"
      ]
    },
    {
      "cell_type": "code",
      "execution_count": 38,
      "metadata": {
        "id": "hqNFj93pnTkj"
      },
      "outputs": [],
      "source": [
        "llms = Groq(model = 'llama3-70b-8192', api_key=Groq_api)"
      ]
    },
    {
      "cell_type": "code",
      "execution_count": 39,
      "metadata": {
        "id": "vyRl_xnhoe8w"
      },
      "outputs": [],
      "source": [
        "query_engine = index.as_query_engine(llm=llms,similary_top_k=2)"
      ]
    },
    {
      "cell_type": "code",
      "execution_count": 40,
      "metadata": {
        "colab": {
          "base_uri": "https://localhost:8080/",
          "height": 53
        },
        "id": "Lm8RFzNIo9rz",
        "outputId": "d73c0ecd-a2bd-4671-be0e-31e5f4277c12"
      },
      "outputs": [
        {
          "data": {
            "text/plain": [
              "'Trabalhamos com as seguintes variedades de café em grãos: Bourbon vermelho, Bourbon amarelo, Blend especial (Mistura de Bourbon amarelo e vermelho), Catuaí amarelo, Geisha, Yirgacheffe.'"
            ]
          },
          "execution_count": 40,
          "metadata": {},
          "output_type": "execute_result"
        }
      ],
      "source": [
        "query_engine.query('Quais grãos estão disponíveis?').response"
      ]
    },
    {
      "cell_type": "code",
      "execution_count": 41,
      "metadata": {
        "id": "VQR4VPPPpGRj"
      },
      "outputs": [],
      "source": [
        "query_embedding = embed_model.get_text_embedding('Quais hrãos estão disponíveis?')"
      ]
    },
    {
      "cell_type": "code",
      "execution_count": 42,
      "metadata": {
        "colab": {
          "base_uri": "https://localhost:8080/"
        },
        "id": "jrj9uGVwpMwK",
        "outputId": "b7f9064d-a4eb-4039-aa54-2936ef28d6c9"
      },
      "outputs": [
        {
          "data": {
            "text/plain": [
              "{'ids': [['2afd2935-4734-4e64-ad44-41f8b3bb610b',\n",
              "   '77c27f73-fda4-4394-bdce-15f62c7971bb']],\n",
              " 'embeddings': [array([[ 0.01791492, -0.0114905 , -0.00422444, ..., -0.00251033,\n",
              "          -0.05352249, -0.00179109],\n",
              "         [ 0.03503785, -0.01231544, -0.01735386, ...,  0.01032806,\n",
              "          -0.04844265,  0.02083542]], shape=(2, 1024))],\n",
              " 'documents': None,\n",
              " 'uris': None,\n",
              " 'data': None,\n",
              " 'metadatas': None,\n",
              " 'distances': [[0.3765002473659635, 0.40343916872266]],\n",
              " 'included': [<IncludeEnum.embeddings: 'embeddings'>,\n",
              "  <IncludeEnum.distances: 'distances'>]}"
            ]
          },
          "execution_count": 42,
          "metadata": {},
          "output_type": "execute_result"
        }
      ],
      "source": [
        "chroma_collection.query(query_embedding,n_results=2,include=['distances','embeddings'])"
      ]
    },
    {
      "cell_type": "code",
      "execution_count": 43,
      "metadata": {
        "id": "puYgi07zpYZa"
      },
      "outputs": [],
      "source": [
        "chat_engine = index.as_chat_engine(mode='context',llm = llms)"
      ]
    },
    {
      "cell_type": "code",
      "execution_count": 44,
      "metadata": {
        "colab": {
          "base_uri": "https://localhost:8080/"
        },
        "id": "kgyT_Kqipjip",
        "outputId": "4da3a6a9-2da2-4057-b45e-45d35e147e35"
      },
      "outputs": [
        {
          "name": "stdout",
          "output_type": "stream",
          "text": [
            "Os grãos disponíveis são: Bourbon vermelho, Bourbon amarelo, Blend especial (Mistura de Bourbon amarelo e vermelho), Catuaí amarelo, Geisha e Yirgacheffe.\n"
          ]
        }
      ],
      "source": [
        "pergunta = chat_engine.chat('Quais grãos estão disponíveis?').response\n",
        "print(pergunta)"
      ]
    },
    {
      "cell_type": "code",
      "execution_count": 45,
      "metadata": {
        "colab": {
          "base_uri": "https://localhost:8080/"
        },
        "id": "MbaBv-PXp3HX",
        "outputId": "671b6c9f-eb45-49ea-8c96-116e91bf8a3a"
      },
      "outputs": [
        {
          "name": "stdout",
          "output_type": "stream",
          "text": [
            "O Catuaí amarelo é um tipo de café que tem doçura máxima (5/5) e corpo médio-alto (4/5) com baixa amargura (1/5). Ele apresenta uma acidez expressiva e notas incríveis de pitanga, tornando-o uma experiência de café única e diferenciada. O método de processamento utilizado é fermentado, cultivado a uma altitude de 1.200m, com um tostamento médio.\n"
          ]
        }
      ],
      "source": [
        "pergunta = chat_engine.chat('Você pode dar mais detalhes sobre o Catuai amarelo?').response\n",
        "print(pergunta)"
      ]
    },
    {
      "cell_type": "code",
      "execution_count": 46,
      "metadata": {
        "colab": {
          "base_uri": "https://localhost:8080/"
        },
        "id": "9HEK41AYqBQn",
        "outputId": "419125c7-3c19-4927-e5bf-f7adb7e42ee3"
      },
      "outputs": [
        {
          "name": "stdout",
          "output_type": "stream",
          "text": [
            "O preço do Catuaí amarelo é R$ 55,00.\n"
          ]
        }
      ],
      "source": [
        "pergunta = chat_engine.chat('Qual o preço dele?').response\n",
        "print(pergunta)"
      ]
    },
    {
      "cell_type": "code",
      "execution_count": null,
      "metadata": {
        "colab": {
          "base_uri": "https://localhost:8080/"
        },
        "id": "AFvKpa_RqNnW",
        "outputId": "4758959c-ae1c-4c4b-928e-486d82dc4912"
      },
      "outputs": [
        {
          "data": {
            "text/plain": [
              "[ChatMessage(role=<MessageRole.USER: 'user'>, additional_kwargs={}, blocks=[TextBlock(block_type='text', text='Quais grãos estão disponíveis?')]),\n",
              " ChatMessage(role=<MessageRole.ASSISTANT: 'assistant'>, additional_kwargs={}, blocks=[TextBlock(block_type='text', text='Os grãos disponíveis são: Bourbon vermelho, Bourbon amarelo, Blend especial (Mistura de Bourbon amarelo e vermelho), Catuaí amarelo, Geisha e Yirgacheffe.')]),\n",
              " ChatMessage(role=<MessageRole.USER: 'user'>, additional_kwargs={}, blocks=[TextBlock(block_type='text', text='Você pode dar mais detalhes sobre o Catuai amarelo?')]),\n",
              " ChatMessage(role=<MessageRole.ASSISTANT: 'assistant'>, additional_kwargs={}, blocks=[TextBlock(block_type='text', text='O Catuaí amarelo é um tipo de café que apresenta doçura máxima (5/5) e corpo médio-alto (4/5) com amargor baixo (1/5). Ele apresenta uma acidez expressiva e notas maravilhosas de pitanga, oferecendo uma experiência sensorial diferenciada.')]),\n",
              " ChatMessage(role=<MessageRole.USER: 'user'>, additional_kwargs={}, blocks=[TextBlock(block_type='text', text='Você pode dar mais detalhes sobre o Catuai amarelo?')]),\n",
              " ChatMessage(role=<MessageRole.ASSISTANT: 'assistant'>, additional_kwargs={}, blocks=[TextBlock(block_type='text', text='O café Catuaí amarelo apresenta doçura máxima (5/5), corpo médio-alto (4/5) e amargor baixo (1/5). Além disso, ele apresenta uma acidez expressiva e notas maravilhosas de pitanga, tornando-o uma experiência de café única e diferenciada.')]),\n",
              " ChatMessage(role=<MessageRole.USER: 'user'>, additional_kwargs={}, blocks=[TextBlock(block_type='text', text='Qual o preço dele?')]),\n",
              " ChatMessage(role=<MessageRole.ASSISTANT: 'assistant'>, additional_kwargs={}, blocks=[TextBlock(block_type='text', text='O preço do café Catuaí amarelo é de R$ 55,00.')]),\n",
              " ChatMessage(role=<MessageRole.USER: 'user'>, additional_kwargs={}, blocks=[TextBlock(block_type='text', text='Qual o preço dele?')]),\n",
              " ChatMessage(role=<MessageRole.ASSISTANT: 'assistant'>, additional_kwargs={}, blocks=[TextBlock(block_type='text', text='O preço do café Catuaí amarelo é de R$ 55,00.')])]"
            ]
          },
          "execution_count": 78,
          "metadata": {},
          "output_type": "execute_result"
        }
      ],
      "source": [
        "chat_engine.chat_history"
      ]
    },
    {
      "cell_type": "code",
      "execution_count": null,
      "metadata": {
        "id": "7gHeV3wVqQsP"
      },
      "outputs": [],
      "source": [
        "from llama_index.core.memory import ChatMemoryBuffer"
      ]
    },
    {
      "cell_type": "code",
      "execution_count": null,
      "metadata": {
        "id": "OX7QwR1uqXA-"
      },
      "outputs": [],
      "source": [
        "memory = ChatMemoryBuffer(llm=llms,token_limit=256)"
      ]
    },
    {
      "cell_type": "code",
      "execution_count": null,
      "metadata": {
        "id": "GW8GnglpqiAm"
      },
      "outputs": [],
      "source": [
        "chat_engine = index.as_chat_engine(\n",
        "    chat_mode='context',\n",
        "    llm = llms,\n",
        "    memory=memory,\n",
        "    system_prompt=('Você é um especialista em cafés da loja Serenatto uma loja online que vende grãos de café torrados. Sua função é tirar duvidas de forma sipática e natural sobre os grãos disponíveis'))"
      ]
    },
    {
      "cell_type": "code",
      "execution_count": null,
      "metadata": {
        "colab": {
          "base_uri": "https://localhost:8080/"
        },
        "id": "3JEKgZfyrEjz",
        "outputId": "339c82a0-37eb-47ae-f0f1-4146c3282acb"
      },
      "outputs": [
        {
          "name": "stdout",
          "output_type": "stream",
          "text": [
            "Olá! Bem-vindo à Serenatto! Estou aqui para ajudar com qualquer dúvida que você tenha sobre nossos cafés especiais. Qual é sua pergunta ou interesse hoje?\n"
          ]
        }
      ],
      "source": [
        "response = chat_engine.chat('Olá')\n",
        "print(response)"
      ]
    },
    {
      "cell_type": "code",
      "execution_count": null,
      "metadata": {
        "colab": {
          "base_uri": "https://localhost:8080/"
        },
        "id": "hEDg-83jrRQz",
        "outputId": "ed19c4f5-cb3c-475e-fdd1-30e9ac1a3899"
      },
      "outputs": [
        {
          "name": "stdout",
          "output_type": "stream",
          "text": [
            "O Catuaí Amarelo é um dos nossos cafés mais exóticos e exclusivos! Ele possui uma doçura máxima (5/5) e um corpo médio-alto (4/5), com um amargor baixo (1/5). O que o torna único é sua expressiva acidez e notas maravilhosas de pitanga, que fogem muito do tradicional.\n",
            "\n",
            "É um café para quem busca uma experiência sensorial diferenciada. O processo de produção é fermentado, cultivado em altitude de 1.200m, com torra média. Se você está procurando por um café que seja um pouco mais ousado e que possa surpreender seu paladar, o Catuaí Amarelo é uma ótima escolha!\n"
          ]
        }
      ],
      "source": [
        "response = chat_engine.chat('Você pode me dar mais detalhes sobre o Catui Amarelo')\n",
        "print(response)"
      ]
    },
    {
      "cell_type": "code",
      "execution_count": null,
      "metadata": {
        "colab": {
          "base_uri": "https://localhost:8080/"
        },
        "id": "s6LELUTHrYNr",
        "outputId": "77d3b935-4c2c-4ef6-b788-4fa48f7ffada"
      },
      "outputs": [
        {
          "name": "stdout",
          "output_type": "stream",
          "text": [
            "O preço do Catuaí Amarelo é de R$ 55,00 por pacote de 250g. É um investimento vale a pena para quem busca uma experiência de café de alta qualidade e exclusividade!\n"
          ]
        }
      ],
      "source": [
        "response = chat_engine.chat('Qual o preço dele?')\n",
        "print(response)"
      ]
    },
    {
      "cell_type": "code",
      "execution_count": null,
      "metadata": {
        "colab": {
          "base_uri": "https://localhost:8080/"
        },
        "id": "Xfldr4Lar0qi",
        "outputId": "8cef9330-c759-4f6f-da24-1752c52e2afa"
      },
      "outputs": [
        {
          "data": {
            "text/plain": [
              "[ChatMessage(role=<MessageRole.USER: 'user'>, additional_kwargs={}, blocks=[TextBlock(block_type='text', text='Você pode me dar mais detalhes sobre o Catui Amarelo')]),\n",
              " ChatMessage(role=<MessageRole.ASSISTANT: 'assistant'>, additional_kwargs={}, blocks=[TextBlock(block_type='text', text='O Catuaí Amarelo é um dos nossos cafés mais exóticos e exclusivos! Ele possui uma doçura máxima (5/5) e um corpo médio-alto (4/5), com um amargor baixo (1/5). O que o torna único é sua expressiva acidez e notas maravilhosas de pitanga, que fogem muito do tradicional.\\n\\nÉ um café para quem busca uma experiência sensorial diferenciada. O processo de produção é fermentado, cultivado em altitude de 1.200m, com torra média. Se você está procurando por um café que seja um pouco mais ousado e que possa surpreender seu paladar, o Catuaí Amarelo é uma ótima escolha!')]),\n",
              " ChatMessage(role=<MessageRole.USER: 'user'>, additional_kwargs={}, blocks=[TextBlock(block_type='text', text='Qual o preço dele?')]),\n",
              " ChatMessage(role=<MessageRole.ASSISTANT: 'assistant'>, additional_kwargs={}, blocks=[TextBlock(block_type='text', text='O preço do Catuaí Amarelo é de R$ 55,00 por pacote de 250g. É um investimento vale a pena para quem busca uma experiência de café de alta qualidade e exclusividade!')])]"
            ]
          },
          "execution_count": 85,
          "metadata": {},
          "output_type": "execute_result"
        }
      ],
      "source": [
        "memory.get()"
      ]
    },
    {
      "cell_type": "code",
      "execution_count": null,
      "metadata": {
        "id": "gL5Ol90prjVO"
      },
      "outputs": [],
      "source": [
        "#resetando o chat\n",
        "chat_engine.reset()"
      ]
    },
    {
      "cell_type": "code",
      "execution_count": null,
      "metadata": {
        "colab": {
          "base_uri": "https://localhost:8080/",
          "height": 159
        },
        "id": "QW6ZH-WeroX_",
        "outputId": "0a995fe9-8053-4dd9-ddb8-e252d0c75223"
      },
      "outputs": [
        {
          "ename": "AttributeError",
          "evalue": "'AgentChatResponse' object has no attribute 'responde'",
          "output_type": "error",
          "traceback": [
            "\u001b[0;31m---------------------------------------------------------------------------\u001b[0m",
            "\u001b[0;31mAttributeError\u001b[0m                            Traceback (most recent call last)",
            "\u001b[0;32m<ipython-input-87-b25fe26fa9f7>\u001b[0m in \u001b[0;36m<cell line: 0>\u001b[0;34m()\u001b[0m\n\u001b[0;32m----> 1\u001b[0;31m \u001b[0mpergunta\u001b[0m \u001b[0;34m=\u001b[0m \u001b[0mchat_engine\u001b[0m\u001b[0;34m.\u001b[0m\u001b[0mchat\u001b[0m\u001b[0;34m(\u001b[0m\u001b[0;34m'Qual o preço dele?'\u001b[0m\u001b[0;34m)\u001b[0m\u001b[0;34m.\u001b[0m\u001b[0mresponde\u001b[0m\u001b[0;34m\u001b[0m\u001b[0;34m\u001b[0m\u001b[0m\n\u001b[0m\u001b[1;32m      2\u001b[0m \u001b[0mprint\u001b[0m\u001b[0;34m(\u001b[0m\u001b[0mpergunta\u001b[0m\u001b[0;34m)\u001b[0m\u001b[0;34m\u001b[0m\u001b[0;34m\u001b[0m\u001b[0m\n",
            "\u001b[0;31mAttributeError\u001b[0m: 'AgentChatResponse' object has no attribute 'responde'"
          ]
        }
      ],
      "source": [
        "pergunta = chat_engine.chat('Qual o preço dele?').responde\n",
        "print(pergunta)"
      ]
    },
    {
      "cell_type": "code",
      "execution_count": null,
      "metadata": {
        "id": "g_P9CSn5r35a"
      },
      "outputs": [],
      "source": [
        "#implementando a interface Gradio\n",
        "!pip install gradio"
      ]
    },
    {
      "cell_type": "code",
      "execution_count": 32,
      "metadata": {
        "id": "O_spYks2r9xW"
      },
      "outputs": [],
      "source": [
        "import gradio as gr"
      ]
    },
    {
      "cell_type": "code",
      "execution_count": null,
      "metadata": {
        "id": "rBfBOTLor__m"
      },
      "outputs": [],
      "source": [
        "#criando a função para conversar com chatbot\n",
        "def converse_com_bot(message, chat_history):\n",
        "  response = chat_engine.chat(message)\n",
        "\n",
        "  if chat_history is None:\n",
        "    chat_history = []\n",
        "\n",
        "  chat_history.append({\"role\": \"user\", \" content\": \"message\"})\n",
        "  chat_history.append({\"role\": \"assistant\", \"content\": response.response})\n",
        "\n",
        "  return \"\",chat_history\n",
        "\n",
        "#criando a função para resetar chatbot\n",
        "def resetar_chat():\n",
        "  chat_engine.reset()\n",
        "  return []"
      ]
    },
    {
      "cell_type": "code",
      "execution_count": null,
      "metadata": {
        "id": "TE8wgXuUtfus"
      },
      "outputs": [],
      "source": [
        "with gr.Blocks() as app:\n",
        "\n",
        "  gr.Markdown('# Chatbot da Serenatto')\n",
        "  chatbot = gr.Chatbot(type='messeges')\n",
        "  msg = gr.Textbox(label='Digite a sua mensagem')\n",
        "  limpar = gr.Button('Limpar')\n",
        "\n",
        "  msg.submit(converse_com_bot, [msg, chatbot], [msg, chatbot])\n",
        "  limpar.click(resetar_chat,None,chatbot,queue=False)\n",
        "\n",
        "  app.launch(debug=True)"
      ]
    }
  ],
  "metadata": {
    "colab": {
      "authorship_tag": "ABX9TyPDQ/FuxmolO38Ru+pAbmyD",
      "include_colab_link": true,
      "provenance": []
    },
    "kernelspec": {
      "display_name": "Python 3",
      "name": "python3"
    },
    "language_info": {
      "codemirror_mode": {
        "name": "ipython",
        "version": 3
      },
      "file_extension": ".py",
      "mimetype": "text/x-python",
      "name": "python",
      "nbconvert_exporter": "python",
      "pygments_lexer": "ipython3",
      "version": "3.13.1"
    },
    "widgets": {
      "application/vnd.jupyter.widget-state+json": {
        "353c1ddb5be04851a76f36fd3f9b85dd": {
          "model_module": "@jupyter-widgets/controls",
          "model_module_version": "1.5.0",
          "model_name": "HTMLModel",
          "state": {
            "_dom_classes": [],
            "_model_module": "@jupyter-widgets/controls",
            "_model_module_version": "1.5.0",
            "_model_name": "HTMLModel",
            "_view_count": null,
            "_view_module": "@jupyter-widgets/controls",
            "_view_module_version": "1.5.0",
            "_view_name": "HTMLView",
            "description": "",
            "description_tooltip": null,
            "layout": "IPY_MODEL_cce84ddd9d2f43c1807bf9ec70d4d13c",
            "placeholder": "​",
            "style": "IPY_MODEL_c363b51d4ffa447dbb6b5f2d97d0b612",
            "value": " 10/10 [00:00&lt;00:00, 112.38it/s]"
          }
        },
        "3f7a5fed4cca4874aac3442aaf114d3d": {
          "model_module": "@jupyter-widgets/base",
          "model_module_version": "1.2.0",
          "model_name": "LayoutModel",
          "state": {
            "_model_module": "@jupyter-widgets/base",
            "_model_module_version": "1.2.0",
            "_model_name": "LayoutModel",
            "_view_count": null,
            "_view_module": "@jupyter-widgets/base",
            "_view_module_version": "1.2.0",
            "_view_name": "LayoutView",
            "align_content": null,
            "align_items": null,
            "align_self": null,
            "border": null,
            "bottom": null,
            "display": null,
            "flex": null,
            "flex_flow": null,
            "grid_area": null,
            "grid_auto_columns": null,
            "grid_auto_flow": null,
            "grid_auto_rows": null,
            "grid_column": null,
            "grid_gap": null,
            "grid_row": null,
            "grid_template_areas": null,
            "grid_template_columns": null,
            "grid_template_rows": null,
            "height": null,
            "justify_content": null,
            "justify_items": null,
            "left": null,
            "margin": null,
            "max_height": null,
            "max_width": null,
            "min_height": null,
            "min_width": null,
            "object_fit": null,
            "object_position": null,
            "order": null,
            "overflow": null,
            "overflow_x": null,
            "overflow_y": null,
            "padding": null,
            "right": null,
            "top": null,
            "visibility": null,
            "width": null
          }
        },
        "4c995bbb2f7743a58676692ab2684fa3": {
          "model_module": "@jupyter-widgets/controls",
          "model_module_version": "1.5.0",
          "model_name": "HBoxModel",
          "state": {
            "_dom_classes": [],
            "_model_module": "@jupyter-widgets/controls",
            "_model_module_version": "1.5.0",
            "_model_name": "HBoxModel",
            "_view_count": null,
            "_view_module": "@jupyter-widgets/controls",
            "_view_module_version": "1.5.0",
            "_view_name": "HBoxView",
            "box_style": "",
            "children": [
              "IPY_MODEL_6f04fb960df54b48a3d1ef9cec32cf28",
              "IPY_MODEL_b7bc23af8cbb412cb79b485b137dc0d5",
              "IPY_MODEL_353c1ddb5be04851a76f36fd3f9b85dd"
            ],
            "layout": "IPY_MODEL_3f7a5fed4cca4874aac3442aaf114d3d"
          }
        },
        "60a6b7ee18064076bc74a7d53a21cf06": {
          "model_module": "@jupyter-widgets/controls",
          "model_module_version": "1.5.0",
          "model_name": "DescriptionStyleModel",
          "state": {
            "_model_module": "@jupyter-widgets/controls",
            "_model_module_version": "1.5.0",
            "_model_name": "DescriptionStyleModel",
            "_view_count": null,
            "_view_module": "@jupyter-widgets/base",
            "_view_module_version": "1.2.0",
            "_view_name": "StyleView",
            "description_width": ""
          }
        },
        "6f04fb960df54b48a3d1ef9cec32cf28": {
          "model_module": "@jupyter-widgets/controls",
          "model_module_version": "1.5.0",
          "model_name": "HTMLModel",
          "state": {
            "_dom_classes": [],
            "_model_module": "@jupyter-widgets/controls",
            "_model_module_version": "1.5.0",
            "_model_name": "HTMLModel",
            "_view_count": null,
            "_view_module": "@jupyter-widgets/controls",
            "_view_module_version": "1.5.0",
            "_view_name": "HTMLView",
            "description": "",
            "description_tooltip": null,
            "layout": "IPY_MODEL_832a9c023f4e4052815e341fc49f6109",
            "placeholder": "​",
            "style": "IPY_MODEL_60a6b7ee18064076bc74a7d53a21cf06",
            "value": "Parsing nodes: 100%"
          }
        },
        "72df4b9589d044c7a2de1cc406511797": {
          "model_module": "@jupyter-widgets/controls",
          "model_module_version": "1.5.0",
          "model_name": "ProgressStyleModel",
          "state": {
            "_model_module": "@jupyter-widgets/controls",
            "_model_module_version": "1.5.0",
            "_model_name": "ProgressStyleModel",
            "_view_count": null,
            "_view_module": "@jupyter-widgets/base",
            "_view_module_version": "1.2.0",
            "_view_name": "StyleView",
            "bar_color": null,
            "description_width": ""
          }
        },
        "832a9c023f4e4052815e341fc49f6109": {
          "model_module": "@jupyter-widgets/base",
          "model_module_version": "1.2.0",
          "model_name": "LayoutModel",
          "state": {
            "_model_module": "@jupyter-widgets/base",
            "_model_module_version": "1.2.0",
            "_model_name": "LayoutModel",
            "_view_count": null,
            "_view_module": "@jupyter-widgets/base",
            "_view_module_version": "1.2.0",
            "_view_name": "LayoutView",
            "align_content": null,
            "align_items": null,
            "align_self": null,
            "border": null,
            "bottom": null,
            "display": null,
            "flex": null,
            "flex_flow": null,
            "grid_area": null,
            "grid_auto_columns": null,
            "grid_auto_flow": null,
            "grid_auto_rows": null,
            "grid_column": null,
            "grid_gap": null,
            "grid_row": null,
            "grid_template_areas": null,
            "grid_template_columns": null,
            "grid_template_rows": null,
            "height": null,
            "justify_content": null,
            "justify_items": null,
            "left": null,
            "margin": null,
            "max_height": null,
            "max_width": null,
            "min_height": null,
            "min_width": null,
            "object_fit": null,
            "object_position": null,
            "order": null,
            "overflow": null,
            "overflow_x": null,
            "overflow_y": null,
            "padding": null,
            "right": null,
            "top": null,
            "visibility": null,
            "width": null
          }
        },
        "b7bc23af8cbb412cb79b485b137dc0d5": {
          "model_module": "@jupyter-widgets/controls",
          "model_module_version": "1.5.0",
          "model_name": "FloatProgressModel",
          "state": {
            "_dom_classes": [],
            "_model_module": "@jupyter-widgets/controls",
            "_model_module_version": "1.5.0",
            "_model_name": "FloatProgressModel",
            "_view_count": null,
            "_view_module": "@jupyter-widgets/controls",
            "_view_module_version": "1.5.0",
            "_view_name": "ProgressView",
            "bar_style": "success",
            "description": "",
            "description_tooltip": null,
            "layout": "IPY_MODEL_f4d5685a20204550af18d8c4ca09055d",
            "max": 10,
            "min": 0,
            "orientation": "horizontal",
            "style": "IPY_MODEL_72df4b9589d044c7a2de1cc406511797",
            "value": 10
          }
        },
        "c363b51d4ffa447dbb6b5f2d97d0b612": {
          "model_module": "@jupyter-widgets/controls",
          "model_module_version": "1.5.0",
          "model_name": "DescriptionStyleModel",
          "state": {
            "_model_module": "@jupyter-widgets/controls",
            "_model_module_version": "1.5.0",
            "_model_name": "DescriptionStyleModel",
            "_view_count": null,
            "_view_module": "@jupyter-widgets/base",
            "_view_module_version": "1.2.0",
            "_view_name": "StyleView",
            "description_width": ""
          }
        },
        "cce84ddd9d2f43c1807bf9ec70d4d13c": {
          "model_module": "@jupyter-widgets/base",
          "model_module_version": "1.2.0",
          "model_name": "LayoutModel",
          "state": {
            "_model_module": "@jupyter-widgets/base",
            "_model_module_version": "1.2.0",
            "_model_name": "LayoutModel",
            "_view_count": null,
            "_view_module": "@jupyter-widgets/base",
            "_view_module_version": "1.2.0",
            "_view_name": "LayoutView",
            "align_content": null,
            "align_items": null,
            "align_self": null,
            "border": null,
            "bottom": null,
            "display": null,
            "flex": null,
            "flex_flow": null,
            "grid_area": null,
            "grid_auto_columns": null,
            "grid_auto_flow": null,
            "grid_auto_rows": null,
            "grid_column": null,
            "grid_gap": null,
            "grid_row": null,
            "grid_template_areas": null,
            "grid_template_columns": null,
            "grid_template_rows": null,
            "height": null,
            "justify_content": null,
            "justify_items": null,
            "left": null,
            "margin": null,
            "max_height": null,
            "max_width": null,
            "min_height": null,
            "min_width": null,
            "object_fit": null,
            "object_position": null,
            "order": null,
            "overflow": null,
            "overflow_x": null,
            "overflow_y": null,
            "padding": null,
            "right": null,
            "top": null,
            "visibility": null,
            "width": null
          }
        },
        "f4d5685a20204550af18d8c4ca09055d": {
          "model_module": "@jupyter-widgets/base",
          "model_module_version": "1.2.0",
          "model_name": "LayoutModel",
          "state": {
            "_model_module": "@jupyter-widgets/base",
            "_model_module_version": "1.2.0",
            "_model_name": "LayoutModel",
            "_view_count": null,
            "_view_module": "@jupyter-widgets/base",
            "_view_module_version": "1.2.0",
            "_view_name": "LayoutView",
            "align_content": null,
            "align_items": null,
            "align_self": null,
            "border": null,
            "bottom": null,
            "display": null,
            "flex": null,
            "flex_flow": null,
            "grid_area": null,
            "grid_auto_columns": null,
            "grid_auto_flow": null,
            "grid_auto_rows": null,
            "grid_column": null,
            "grid_gap": null,
            "grid_row": null,
            "grid_template_areas": null,
            "grid_template_columns": null,
            "grid_template_rows": null,
            "height": null,
            "justify_content": null,
            "justify_items": null,
            "left": null,
            "margin": null,
            "max_height": null,
            "max_width": null,
            "min_height": null,
            "min_width": null,
            "object_fit": null,
            "object_position": null,
            "order": null,
            "overflow": null,
            "overflow_x": null,
            "overflow_y": null,
            "padding": null,
            "right": null,
            "top": null,
            "visibility": null,
            "width": null
          }
        }
      }
    }
  },
  "nbformat": 4,
  "nbformat_minor": 0
}
